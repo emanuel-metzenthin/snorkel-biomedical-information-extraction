{
 "cells": [
  {
   "cell_type": "markdown",
   "metadata": {
    "colab_type": "text",
    "id": "KmXSWl97pl1X"
   },
   "source": [
    "# Application of Weak Supervision to Medical NLP using SNORKEL"
   ]
  },
  {
   "cell_type": "code",
   "execution_count": 1,
   "metadata": {
    "colab": {
     "base_uri": "https://localhost:8080/",
     "height": 1000
    },
    "colab_type": "code",
    "id": "z7oD4t65pu4f",
    "outputId": "ac0fd9cc-5e1d-4c79-8827-26ef0199f8c5"
   },
   "outputs": [
    {
     "name": "stdout",
     "output_type": "stream",
     "text": [
      "Requirement already satisfied: matplotlib in /usr/local/lib/python3.6/dist-packages (3.0.3)\n",
      "Requirement already satisfied: kiwisolver>=1.0.1 in /usr/local/lib/python3.6/dist-packages (from matplotlib) (1.1.0)\n",
      "Requirement already satisfied: cycler>=0.10 in /usr/local/lib/python3.6/dist-packages (from matplotlib) (0.10.0)\n",
      "Requirement already satisfied: python-dateutil>=2.1 in /usr/local/lib/python3.6/dist-packages (from matplotlib) (2.5.3)\n",
      "Requirement already satisfied: pyparsing!=2.0.4,!=2.1.2,!=2.1.6,>=2.0.1 in /usr/local/lib/python3.6/dist-packages (from matplotlib) (2.4.2)\n",
      "Requirement already satisfied: numpy>=1.10.0 in /usr/local/lib/python3.6/dist-packages (from matplotlib) (1.16.5)\n",
      "Requirement already satisfied: setuptools in /usr/local/lib/python3.6/dist-packages (from kiwisolver>=1.0.1->matplotlib) (41.2.0)\n",
      "Requirement already satisfied: six in /usr/local/lib/python3.6/dist-packages (from cycler>=0.10->matplotlib) (1.12.0)\n",
      "Requirement already satisfied: pandas in /usr/local/lib/python3.6/dist-packages (0.24.2)\n",
      "Requirement already satisfied: pytz>=2011k in /usr/local/lib/python3.6/dist-packages (from pandas) (2018.9)\n",
      "Requirement already satisfied: python-dateutil>=2.5.0 in /usr/local/lib/python3.6/dist-packages (from pandas) (2.5.3)\n",
      "Requirement already satisfied: numpy>=1.12.0 in /usr/local/lib/python3.6/dist-packages (from pandas) (1.16.5)\n",
      "Requirement already satisfied: six>=1.5 in /usr/local/lib/python3.6/dist-packages (from python-dateutil>=2.5.0->pandas) (1.12.0)\n",
      "Requirement already satisfied: numpy in /usr/local/lib/python3.6/dist-packages (1.16.5)\n",
      "Requirement already satisfied: scikit-learn in /usr/local/lib/python3.6/dist-packages (0.21.3)\n",
      "Requirement already satisfied: numpy>=1.11.0 in /usr/local/lib/python3.6/dist-packages (from scikit-learn) (1.16.5)\n",
      "Requirement already satisfied: joblib>=0.11 in /usr/local/lib/python3.6/dist-packages (from scikit-learn) (0.13.2)\n",
      "Requirement already satisfied: scipy>=0.17.0 in /usr/local/lib/python3.6/dist-packages (from scikit-learn) (1.3.1)\n",
      "Requirement already satisfied: tensorflow in /usr/local/lib/python3.6/dist-packages (1.14.0)\n",
      "Requirement already satisfied: wrapt>=1.11.1 in /usr/local/lib/python3.6/dist-packages (from tensorflow) (1.11.2)\n",
      "Requirement already satisfied: grpcio>=1.8.6 in /usr/local/lib/python3.6/dist-packages (from tensorflow) (1.15.0)\n",
      "Requirement already satisfied: google-pasta>=0.1.6 in /usr/local/lib/python3.6/dist-packages (from tensorflow) (0.1.7)\n",
      "Requirement already satisfied: keras-applications>=1.0.6 in /usr/local/lib/python3.6/dist-packages (from tensorflow) (1.0.8)\n",
      "Requirement already satisfied: astor>=0.6.0 in /usr/local/lib/python3.6/dist-packages (from tensorflow) (0.8.0)\n",
      "Requirement already satisfied: tensorflow-estimator<1.15.0rc0,>=1.14.0rc0 in /usr/local/lib/python3.6/dist-packages (from tensorflow) (1.14.0)\n",
      "Requirement already satisfied: absl-py>=0.7.0 in /usr/local/lib/python3.6/dist-packages (from tensorflow) (0.8.0)\n",
      "Requirement already satisfied: six>=1.10.0 in /usr/local/lib/python3.6/dist-packages (from tensorflow) (1.12.0)\n",
      "Requirement already satisfied: tensorboard<1.15.0,>=1.14.0 in /usr/local/lib/python3.6/dist-packages (from tensorflow) (1.14.0)\n",
      "Requirement already satisfied: numpy<2.0,>=1.14.5 in /usr/local/lib/python3.6/dist-packages (from tensorflow) (1.16.5)\n",
      "Requirement already satisfied: wheel>=0.26 in /usr/local/lib/python3.6/dist-packages (from tensorflow) (0.33.6)\n",
      "Requirement already satisfied: protobuf>=3.6.1 in /usr/local/lib/python3.6/dist-packages (from tensorflow) (3.7.1)\n",
      "Requirement already satisfied: gast>=0.2.0 in /usr/local/lib/python3.6/dist-packages (from tensorflow) (0.2.2)\n",
      "Requirement already satisfied: termcolor>=1.1.0 in /usr/local/lib/python3.6/dist-packages (from tensorflow) (1.1.0)\n",
      "Requirement already satisfied: keras-preprocessing>=1.0.5 in /usr/local/lib/python3.6/dist-packages (from tensorflow) (1.1.0)\n",
      "Requirement already satisfied: h5py in /usr/local/lib/python3.6/dist-packages (from keras-applications>=1.0.6->tensorflow) (2.8.0)\n",
      "Requirement already satisfied: markdown>=2.6.8 in /usr/local/lib/python3.6/dist-packages (from tensorboard<1.15.0,>=1.14.0->tensorflow) (3.1.1)\n",
      "Requirement already satisfied: setuptools>=41.0.0 in /usr/local/lib/python3.6/dist-packages (from tensorboard<1.15.0,>=1.14.0->tensorflow) (41.2.0)\n",
      "Requirement already satisfied: werkzeug>=0.11.15 in /usr/local/lib/python3.6/dist-packages (from tensorboard<1.15.0,>=1.14.0->tensorflow) (0.15.6)\n",
      "Requirement already satisfied: keras in /usr/local/lib/python3.6/dist-packages (2.2.5)\n",
      "Requirement already satisfied: keras-preprocessing>=1.1.0 in /usr/local/lib/python3.6/dist-packages (from keras) (1.1.0)\n",
      "Requirement already satisfied: pyyaml in /usr/local/lib/python3.6/dist-packages (from keras) (3.13)\n",
      "Requirement already satisfied: h5py in /usr/local/lib/python3.6/dist-packages (from keras) (2.8.0)\n",
      "Requirement already satisfied: six>=1.9.0 in /usr/local/lib/python3.6/dist-packages (from keras) (1.12.0)\n",
      "Requirement already satisfied: keras-applications>=1.0.8 in /usr/local/lib/python3.6/dist-packages (from keras) (1.0.8)\n",
      "Requirement already satisfied: numpy>=1.9.1 in /usr/local/lib/python3.6/dist-packages (from keras) (1.16.5)\n",
      "Requirement already satisfied: scipy>=0.14 in /usr/local/lib/python3.6/dist-packages (from keras) (1.3.1)\n",
      "Requirement already satisfied: seaborn in /usr/local/lib/python3.6/dist-packages (0.9.0)\n",
      "Requirement already satisfied: numpy>=1.9.3 in /usr/local/lib/python3.6/dist-packages (from seaborn) (1.16.5)\n",
      "Requirement already satisfied: pandas>=0.15.2 in /usr/local/lib/python3.6/dist-packages (from seaborn) (0.24.2)\n",
      "Requirement already satisfied: scipy>=0.14.0 in /usr/local/lib/python3.6/dist-packages (from seaborn) (1.3.1)\n",
      "Requirement already satisfied: matplotlib>=1.4.3 in /usr/local/lib/python3.6/dist-packages (from seaborn) (3.0.3)\n",
      "Requirement already satisfied: python-dateutil>=2.5.0 in /usr/local/lib/python3.6/dist-packages (from pandas>=0.15.2->seaborn) (2.5.3)\n",
      "Requirement already satisfied: pytz>=2011k in /usr/local/lib/python3.6/dist-packages (from pandas>=0.15.2->seaborn) (2018.9)\n",
      "Requirement already satisfied: kiwisolver>=1.0.1 in /usr/local/lib/python3.6/dist-packages (from matplotlib>=1.4.3->seaborn) (1.1.0)\n",
      "Requirement already satisfied: pyparsing!=2.0.4,!=2.1.2,!=2.1.6,>=2.0.1 in /usr/local/lib/python3.6/dist-packages (from matplotlib>=1.4.3->seaborn) (2.4.2)\n",
      "Requirement already satisfied: cycler>=0.10 in /usr/local/lib/python3.6/dist-packages (from matplotlib>=1.4.3->seaborn) (0.10.0)\n",
      "Requirement already satisfied: six>=1.5 in /usr/local/lib/python3.6/dist-packages (from python-dateutil>=2.5.0->pandas>=0.15.2->seaborn) (1.12.0)\n",
      "Requirement already satisfied: setuptools in /usr/local/lib/python3.6/dist-packages (from kiwisolver>=1.0.1->matplotlib>=1.4.3->seaborn) (41.2.0)\n",
      "Collecting snorkel\n",
      "\u001b[?25l  Downloading https://files.pythonhosted.org/packages/29/f2/70f88428dc1362b7d644db22088735b9a47ec8573b0852548810ec04df89/snorkel-0.9.1-py3-none-any.whl (138kB)\n",
      "\u001b[K     |████████████████████████████████| 143kB 4.6MB/s \n",
      "\u001b[?25hRequirement already satisfied: scipy<2.0.0,>=1.2.0 in /usr/local/lib/python3.6/dist-packages (from snorkel) (1.3.1)\n",
      "Requirement already satisfied: pandas<0.25.0,>=0.24.0 in /usr/local/lib/python3.6/dist-packages (from snorkel) (0.24.2)\n",
      "Requirement already satisfied: torch<1.2.0,>=1.1.0 in /usr/local/lib/python3.6/dist-packages (from snorkel) (1.1.0)\n",
      "Collecting tqdm<5.0.0,>=4.29.0 (from snorkel)\n",
      "\u001b[?25l  Downloading https://files.pythonhosted.org/packages/e1/c1/bc1dba38b48f4ae3c4428aea669c5e27bd5a7642a74c8348451e0bd8ff86/tqdm-4.36.1-py2.py3-none-any.whl (52kB)\n",
      "\u001b[K     |████████████████████████████████| 61kB 25.1MB/s \n",
      "\u001b[?25hRequirement already satisfied: scikit-learn<0.22.0,>=0.20.2 in /usr/local/lib/python3.6/dist-packages (from snorkel) (0.21.3)\n",
      "Collecting tensorboardX<2.0,>=1.6 (from snorkel)\n",
      "\u001b[?25l  Downloading https://files.pythonhosted.org/packages/c3/12/dcaf67e1312475b26db9e45e7bb6f32b540671a9ee120b3a72d9e09bc517/tensorboardX-1.8-py2.py3-none-any.whl (216kB)\n",
      "\u001b[K     |████████████████████████████████| 225kB 37.3MB/s \n",
      "\u001b[?25hRequirement already satisfied: numpy<2.0.0,>=1.16.0 in /usr/local/lib/python3.6/dist-packages (from snorkel) (1.16.5)\n",
      "Requirement already satisfied: networkx<3.0,>=2.2 in /usr/local/lib/python3.6/dist-packages (from snorkel) (2.3)\n",
      "Requirement already satisfied: python-dateutil>=2.5.0 in /usr/local/lib/python3.6/dist-packages (from pandas<0.25.0,>=0.24.0->snorkel) (2.5.3)\n",
      "Requirement already satisfied: pytz>=2011k in /usr/local/lib/python3.6/dist-packages (from pandas<0.25.0,>=0.24.0->snorkel) (2018.9)\n",
      "Requirement already satisfied: joblib>=0.11 in /usr/local/lib/python3.6/dist-packages (from scikit-learn<0.22.0,>=0.20.2->snorkel) (0.13.2)\n",
      "Requirement already satisfied: protobuf>=3.2.0 in /usr/local/lib/python3.6/dist-packages (from tensorboardX<2.0,>=1.6->snorkel) (3.7.1)\n",
      "Requirement already satisfied: six in /usr/local/lib/python3.6/dist-packages (from tensorboardX<2.0,>=1.6->snorkel) (1.12.0)\n",
      "Requirement already satisfied: decorator>=4.3.0 in /usr/local/lib/python3.6/dist-packages (from networkx<3.0,>=2.2->snorkel) (4.4.0)\n",
      "Requirement already satisfied: setuptools in /usr/local/lib/python3.6/dist-packages (from protobuf>=3.2.0->tensorboardX<2.0,>=1.6->snorkel) (41.2.0)\n",
      "Installing collected packages: tqdm, tensorboardX, snorkel\n",
      "  Found existing installation: tqdm 4.28.1\n",
      "    Uninstalling tqdm-4.28.1:\n",
      "      Successfully uninstalled tqdm-4.28.1\n",
      "Successfully installed snorkel-0.9.1 tensorboardX-1.8 tqdm-4.36.1\n"
     ]
    },
    {
     "data": {
      "application/vnd.colab-display-data+json": {
       "pip_warning": {
        "packages": [
         "tqdm"
        ]
       }
      }
     },
     "metadata": {
      "tags": []
     },
     "output_type": "display_data"
    }
   ],
   "source": [
    "!pip install matplotlib\n",
    "!pip install pandas\n",
    "!pip install numpy\n",
    "!pip install scikit-learn\n",
    "!pip install tensorflow\n",
    "!pip install keras\n",
    "!pip install seaborn\n",
    "!pip install snorkel"
   ]
  },
  {
   "cell_type": "code",
   "execution_count": 1,
   "metadata": {
    "colab": {
     "base_uri": "https://localhost:8080/",
     "height": 125
    },
    "colab_type": "code",
    "id": "0NcumEK6vAJP",
    "outputId": "0722a7cb-5357-4986-ef93-5b0134030d78"
   },
   "outputs": [
    {
     "name": "stdout",
     "output_type": "stream",
     "text": [
      "Go to this URL in a browser: https://accounts.google.com/o/oauth2/auth?client_id=947318989803-6bn6qk8qdgf4n4g3pfee6491hc0brc4i.apps.googleusercontent.com&redirect_uri=urn%3Aietf%3Awg%3Aoauth%3A2.0%3Aoob&scope=email%20https%3A%2F%2Fwww.googleapis.com%2Fauth%2Fdocs.test%20https%3A%2F%2Fwww.googleapis.com%2Fauth%2Fdrive%20https%3A%2F%2Fwww.googleapis.com%2Fauth%2Fdrive.photos.readonly%20https%3A%2F%2Fwww.googleapis.com%2Fauth%2Fpeopleapi.readonly&response_type=code\n",
      "\n",
      "Enter your authorization code:\n",
      "··········\n",
      "Mounted at /content/drive\n"
     ]
    }
   ],
   "source": [
    "from google.colab import drive\n",
    "drive.mount('/content/drive')"
   ]
  },
  {
   "cell_type": "code",
   "execution_count": 1,
   "metadata": {
    "colab": {},
    "colab_type": "code",
    "id": "OhZmNPDXpl1Y"
   },
   "outputs": [],
   "source": [
    "import matplotlib.pyplot as plt\n",
    "import pandas as pd\n",
    "import numpy as np\n",
    "import re\n",
    "from sklearn.model_selection import train_test_split\n",
    "from matplotlib.pyplot import figure\n",
    "\n",
    "from snorkel.labeling import PandasLFApplier\n",
    "from snorkel.labeling import labeling_function\n",
    "from snorkel.labeling import LFAnalysis\n",
    "from snorkel.labeling import MajorityLabelVoter\n",
    "from snorkel.labeling import LabelModel\n",
    "from snorkel.labeling import LabelingFunction\n",
    "from snorkel.labeling import filter_unlabeled_dataframe\n",
    "\n",
    "RANDOM_SEED = 123\n",
    "np.random.seed(RANDOM_SEED)"
   ]
  },
  {
   "cell_type": "markdown",
   "metadata": {
    "colab_type": "text",
    "id": "hvwdhZSSpl1b"
   },
   "source": [
    "## Load Dataset\n",
    "\n",
    "We're using the CrowdTruth dataset, containing sentences from PubMed articles describing *cause* or *treat* relations. The dataset includes expert and crowdsourcing labels.\n",
    "\n",
    "**CrowdTruth Data:** https://github.com/CrowdTruth/Medical-Relation-Extraction"
   ]
  },
  {
   "cell_type": "code",
   "execution_count": 45,
   "metadata": {
    "colab": {
     "base_uri": "https://localhost:8080/",
     "height": 105
    },
    "colab_type": "code",
    "id": "EoM0fTutpl1b",
    "outputId": "908188e9-313b-429a-b6bf-37848d2e182e"
   },
   "outputs": [
    {
     "name": "stdout",
     "output_type": "stream",
     "text": [
      "fatal: destination path 'Medical-Relation-Extraction' already exists and is not an empty directory.\r\n"
     ]
    }
   ],
   "source": [
    " ! git clone https://github.com/CrowdTruth/Medical-Relation-Extraction.git\n",
    " import os\n",
    " os.chdir('Medical-Relation-Extraction')"
   ]
  },
  {
   "cell_type": "code",
   "execution_count": 77,
   "metadata": {
    "colab": {},
    "colab_type": "code",
    "id": "ybivtM_ppl1e",
    "scrolled": false
   },
   "outputs": [],
   "source": [
    "cause_raw = pd.read_csv('./ground_truth_cause.csv')\n",
    "treat_raw = pd.read_csv('./ground_truth_treat.csv')"
   ]
  },
  {
   "cell_type": "code",
   "execution_count": 78,
   "metadata": {
    "colab": {},
    "colab_type": "code",
    "id": "xHLuhCQnpl1h",
    "scrolled": true
   },
   "outputs": [],
   "source": [
    "# Preprocess and merge raw CauseTreat data\n",
    "drop_cols = ['relation', 'test_partition', 'sentence_relation_score', \n",
    "            'term1_UMLS', 'term2_UMLS', 'UMLS_seed_relation', 'b1', 'b2', 'e1', 'e2']\n",
    "\n",
    "cause = cause_raw.drop(columns=drop_cols)\n",
    "treat = treat_raw.drop(columns=drop_cols)\n",
    "\n",
    "treat = treat.drop(columns=['term1', 'term2'])\n",
    "\n",
    "data = cause.merge(treat, on='SID', suffixes=('_cause', '_treat'))\n",
    "data = data.drop(['sentence_treat'], axis=1)\n",
    "data = data.rename(columns = {'sentence_cause': 'sentence'})"
   ]
  },
  {
   "cell_type": "code",
   "execution_count": 4,
   "metadata": {
    "colab": {
     "base_uri": "https://localhost:8080/",
     "height": 197
    },
    "colab_type": "code",
    "id": "2HjVwh2kpl1j",
    "outputId": "c2e6d6a7-615e-4725-f74f-2fdb8dde8b8f"
   },
   "outputs": [
    {
     "data": {
      "text/html": [
       "<div>\n",
       "<style scoped>\n",
       "    .dataframe tbody tr th:only-of-type {\n",
       "        vertical-align: middle;\n",
       "    }\n",
       "\n",
       "    .dataframe tbody tr th {\n",
       "        vertical-align: top;\n",
       "    }\n",
       "\n",
       "    .dataframe thead th {\n",
       "        text-align: right;\n",
       "    }\n",
       "</style>\n",
       "<table border=\"1\" class=\"dataframe\">\n",
       "  <thead>\n",
       "    <tr style=\"text-align: right;\">\n",
       "      <th></th>\n",
       "      <th>SID</th>\n",
       "      <th>crowd_cause</th>\n",
       "      <th>baseline_cause</th>\n",
       "      <th>expert_cause</th>\n",
       "      <th>term1</th>\n",
       "      <th>term2</th>\n",
       "      <th>sentence</th>\n",
       "      <th>crowd_treat</th>\n",
       "      <th>baseline_treat</th>\n",
       "      <th>expert_treat</th>\n",
       "    </tr>\n",
       "  </thead>\n",
       "  <tbody>\n",
       "    <tr>\n",
       "      <th>0</th>\n",
       "      <td>100003</td>\n",
       "      <td>-0.847943</td>\n",
       "      <td>1</td>\n",
       "      <td>NaN</td>\n",
       "      <td>AUTISM</td>\n",
       "      <td>TANTRUM</td>\n",
       "      <td>The limited data suggest that, in children wit...</td>\n",
       "      <td>-1.000000</td>\n",
       "      <td>-1</td>\n",
       "      <td>NaN</td>\n",
       "    </tr>\n",
       "    <tr>\n",
       "      <th>1</th>\n",
       "      <td>100039</td>\n",
       "      <td>-0.658257</td>\n",
       "      <td>1</td>\n",
       "      <td>NaN</td>\n",
       "      <td>SLEEP PROBLEM</td>\n",
       "      <td>FAMILY STRESS</td>\n",
       "      <td>SLEEP PROBLEMs are associated with difficult b...</td>\n",
       "      <td>-1.000000</td>\n",
       "      <td>-1</td>\n",
       "      <td>NaN</td>\n",
       "    </tr>\n",
       "    <tr>\n",
       "      <th>2</th>\n",
       "      <td>100079</td>\n",
       "      <td>0.929981</td>\n",
       "      <td>1</td>\n",
       "      <td>NaN</td>\n",
       "      <td>CEREBELLAR ATAXIA</td>\n",
       "      <td>DYSFUNCTION OF THE CEREBELLUM</td>\n",
       "      <td>The term CEREBELLAR ATAXIA is employed to indi...</td>\n",
       "      <td>-0.897938</td>\n",
       "      <td>-1</td>\n",
       "      <td>NaN</td>\n",
       "    </tr>\n",
       "    <tr>\n",
       "      <th>3</th>\n",
       "      <td>100086</td>\n",
       "      <td>0.520756</td>\n",
       "      <td>1</td>\n",
       "      <td>NaN</td>\n",
       "      <td>CEREBELLAR DEGENERATION</td>\n",
       "      <td>CHRONIC ETHANOL ABUSE</td>\n",
       "      <td>Non hereditary causes of cerebellar degenerati...</td>\n",
       "      <td>-1.000000</td>\n",
       "      <td>-1</td>\n",
       "      <td>NaN</td>\n",
       "    </tr>\n",
       "    <tr>\n",
       "      <th>4</th>\n",
       "      <td>100145</td>\n",
       "      <td>-0.521909</td>\n",
       "      <td>1</td>\n",
       "      <td>NaN</td>\n",
       "      <td>HEART PROBLEM</td>\n",
       "      <td>ARTHRITIS</td>\n",
       "      <td>The disorder can present with a migratory ture...</td>\n",
       "      <td>-1.000000</td>\n",
       "      <td>-1</td>\n",
       "      <td>NaN</td>\n",
       "    </tr>\n",
       "  </tbody>\n",
       "</table>\n",
       "</div>"
      ],
      "text/plain": [
       "      SID  crowd_cause  baseline_cause  expert_cause                    term1  \\\n",
       "0  100003    -0.847943               1           NaN                   AUTISM   \n",
       "1  100039    -0.658257               1           NaN            SLEEP PROBLEM   \n",
       "2  100079     0.929981               1           NaN        CEREBELLAR ATAXIA   \n",
       "3  100086     0.520756               1           NaN  CEREBELLAR DEGENERATION   \n",
       "4  100145    -0.521909               1           NaN            HEART PROBLEM   \n",
       "\n",
       "                           term2  \\\n",
       "0                        TANTRUM   \n",
       "1                  FAMILY STRESS   \n",
       "2  DYSFUNCTION OF THE CEREBELLUM   \n",
       "3          CHRONIC ETHANOL ABUSE   \n",
       "4                      ARTHRITIS   \n",
       "\n",
       "                                            sentence  crowd_treat  \\\n",
       "0  The limited data suggest that, in children wit...    -1.000000   \n",
       "1  SLEEP PROBLEMs are associated with difficult b...    -1.000000   \n",
       "2  The term CEREBELLAR ATAXIA is employed to indi...    -0.897938   \n",
       "3  Non hereditary causes of cerebellar degenerati...    -1.000000   \n",
       "4  The disorder can present with a migratory ture...    -1.000000   \n",
       "\n",
       "   baseline_treat  expert_treat  \n",
       "0              -1           NaN  \n",
       "1              -1           NaN  \n",
       "2              -1           NaN  \n",
       "3              -1           NaN  \n",
       "4              -1           NaN  "
      ]
     },
     "execution_count": 4,
     "metadata": {},
     "output_type": "execute_result"
    }
   ],
   "source": [
    "data.head()"
   ]
  },
  {
   "cell_type": "markdown",
   "metadata": {
    "colab_type": "text",
    "id": "dnEkOB9Hpl1l"
   },
   "source": [
    "**Some statistics on the CrowdTruth datasets:**"
   ]
  },
  {
   "cell_type": "code",
   "execution_count": 79,
   "metadata": {
    "colab": {
     "base_uri": "https://localhost:8080/",
     "height": 141
    },
    "colab_type": "code",
    "id": "O0E0Zvr8pl1m",
    "outputId": "03378afc-8313-4a2a-85e7-75f6e2968571"
   },
   "outputs": [
    {
     "name": "stdout",
     "output_type": "stream",
     "text": [
      "Row in cause groundtruth: 3984\n",
      "Row in treat groundtruth: 3984\n",
      "Rows with sentence id SID in cause that don't appear in treat: 0\n",
      "Cause expert rows: 975\n",
      "Treat expert rows: 621\n",
      "Accuracy of baseline labels in cause: 25.33%\n",
      "Accuracy of baseline labels in treat: 47.34%\n"
     ]
    }
   ],
   "source": [
    "n_cause = cause.shape[0]\n",
    "n_treat = treat.shape[0]\n",
    "print('Row in cause groundtruth: {}'.format(n_cause))\n",
    "print('Row in treat groundtruth: {}'.format(n_treat))\n",
    "\n",
    "n_different_SID = cause[~cause['SID'].isin(treat['SID'])].shape[0]\n",
    "print('Rows with sentence id SID in cause that don\\'t appear in treat: {}'.format(n_different_SID))\n",
    "\n",
    "n_expert_cause = cause[cause['expert'].notnull()].shape[0]\n",
    "print('Cause expert rows: {}'.format(n_expert_cause))\n",
    "\n",
    "n_expert_treat = treat[treat['expert'].notnull()].shape[0]\n",
    "print('Treat expert rows: {}'.format(n_expert_treat))\n",
    "\n",
    "cause_accuracy = cause[cause['expert'] == 1].shape[0] / n_expert_cause\n",
    "print('Accuracy of baseline labels in cause: {:.4}%'.format(cause_accuracy * 100))\n",
    "\n",
    "treat_accuracy = treat[treat['expert'] == 1].shape[0] / n_expert_treat\n",
    "print('Accuracy of baseline labels in treat: {:.4}%'.format(treat_accuracy * 100))"
   ]
  },
  {
   "cell_type": "markdown",
   "metadata": {
    "colab_type": "text",
    "id": "6r4XjoQcpl1o"
   },
   "source": [
    "### Additional Data\n",
    "\n",
    "To increase the data volume and test the application of the same labeling functions (LFs) to new data we also load additional data sources for *cause* and *treat*.\n",
    "\n",
    "They can be switch on/off for processing using the below constants.\n",
    "\n",
    "**BIOTEXT Data:** https://biotext.berkeley.edu/dis_treat_data.html"
   ]
  },
  {
   "cell_type": "code",
   "execution_count": 80,
   "metadata": {
    "colab": {},
    "colab_type": "code",
    "id": "-3u5FojEpl1p"
   },
   "outputs": [],
   "source": [
    "USE_BIOTEXT = False"
   ]
  },
  {
   "cell_type": "code",
   "execution_count": 60,
   "metadata": {
    "colab": {
     "base_uri": "https://localhost:8080/",
     "height": 92,
     "resources": {
      "http://localhost:8080/nbextensions/google.colab/files.js": {
       "data": "Ly8gQ29weXJpZ2h0IDIwMTcgR29vZ2xlIExMQwovLwovLyBMaWNlbnNlZCB1bmRlciB0aGUgQXBhY2hlIExpY2Vuc2UsIFZlcnNpb24gMi4wICh0aGUgIkxpY2Vuc2UiKTsKLy8geW91IG1heSBub3QgdXNlIHRoaXMgZmlsZSBleGNlcHQgaW4gY29tcGxpYW5jZSB3aXRoIHRoZSBMaWNlbnNlLgovLyBZb3UgbWF5IG9idGFpbiBhIGNvcHkgb2YgdGhlIExpY2Vuc2UgYXQKLy8KLy8gICAgICBodHRwOi8vd3d3LmFwYWNoZS5vcmcvbGljZW5zZXMvTElDRU5TRS0yLjAKLy8KLy8gVW5sZXNzIHJlcXVpcmVkIGJ5IGFwcGxpY2FibGUgbGF3IG9yIGFncmVlZCB0byBpbiB3cml0aW5nLCBzb2Z0d2FyZQovLyBkaXN0cmlidXRlZCB1bmRlciB0aGUgTGljZW5zZSBpcyBkaXN0cmlidXRlZCBvbiBhbiAiQVMgSVMiIEJBU0lTLAovLyBXSVRIT1VUIFdBUlJBTlRJRVMgT1IgQ09ORElUSU9OUyBPRiBBTlkgS0lORCwgZWl0aGVyIGV4cHJlc3Mgb3IgaW1wbGllZC4KLy8gU2VlIHRoZSBMaWNlbnNlIGZvciB0aGUgc3BlY2lmaWMgbGFuZ3VhZ2UgZ292ZXJuaW5nIHBlcm1pc3Npb25zIGFuZAovLyBsaW1pdGF0aW9ucyB1bmRlciB0aGUgTGljZW5zZS4KCi8qKgogKiBAZmlsZW92ZXJ2aWV3IEhlbHBlcnMgZm9yIGdvb2dsZS5jb2xhYiBQeXRob24gbW9kdWxlLgogKi8KKGZ1bmN0aW9uKHNjb3BlKSB7CmZ1bmN0aW9uIHNwYW4odGV4dCwgc3R5bGVBdHRyaWJ1dGVzID0ge30pIHsKICBjb25zdCBlbGVtZW50ID0gZG9jdW1lbnQuY3JlYXRlRWxlbWVudCgnc3BhbicpOwogIGVsZW1lbnQudGV4dENvbnRlbnQgPSB0ZXh0OwogIGZvciAoY29uc3Qga2V5IG9mIE9iamVjdC5rZXlzKHN0eWxlQXR0cmlidXRlcykpIHsKICAgIGVsZW1lbnQuc3R5bGVba2V5XSA9IHN0eWxlQXR0cmlidXRlc1trZXldOwogIH0KICByZXR1cm4gZWxlbWVudDsKfQoKLy8gTWF4IG51bWJlciBvZiBieXRlcyB3aGljaCB3aWxsIGJlIHVwbG9hZGVkIGF0IGEgdGltZS4KY29uc3QgTUFYX1BBWUxPQURfU0laRSA9IDEwMCAqIDEwMjQ7Ci8vIE1heCBhbW91bnQgb2YgdGltZSB0byBibG9jayB3YWl0aW5nIGZvciB0aGUgdXNlci4KY29uc3QgRklMRV9DSEFOR0VfVElNRU9VVF9NUyA9IDMwICogMTAwMDsKCmZ1bmN0aW9uIF91cGxvYWRGaWxlcyhpbnB1dElkLCBvdXRwdXRJZCkgewogIGNvbnN0IHN0ZXBzID0gdXBsb2FkRmlsZXNTdGVwKGlucHV0SWQsIG91dHB1dElkKTsKICBjb25zdCBvdXRwdXRFbGVtZW50ID0gZG9jdW1lbnQuZ2V0RWxlbWVudEJ5SWQob3V0cHV0SWQpOwogIC8vIENhY2hlIHN0ZXBzIG9uIHRoZSBvdXRwdXRFbGVtZW50IHRvIG1ha2UgaXQgYXZhaWxhYmxlIGZvciB0aGUgbmV4dCBjYWxsCiAgLy8gdG8gdXBsb2FkRmlsZXNDb250aW51ZSBmcm9tIFB5dGhvbi4KICBvdXRwdXRFbGVtZW50LnN0ZXBzID0gc3RlcHM7CgogIHJldHVybiBfdXBsb2FkRmlsZXNDb250aW51ZShvdXRwdXRJZCk7Cn0KCi8vIFRoaXMgaXMgcm91Z2hseSBhbiBhc3luYyBnZW5lcmF0b3IgKG5vdCBzdXBwb3J0ZWQgaW4gdGhlIGJyb3dzZXIgeWV0KSwKLy8gd2hlcmUgdGhlcmUgYXJlIG11bHRpcGxlIGFzeW5jaHJvbm91cyBzdGVwcyBhbmQgdGhlIFB5dGhvbiBzaWRlIGlzIGdvaW5nCi8vIHRvIHBvbGwgZm9yIGNvbXBsZXRpb24gb2YgZWFjaCBzdGVwLgovLyBUaGlzIHVzZXMgYSBQcm9taXNlIHRvIGJsb2NrIHRoZSBweXRob24gc2lkZSBvbiBjb21wbGV0aW9uIG9mIGVhY2ggc3RlcCwKLy8gdGhlbiBwYXNzZXMgdGhlIHJlc3VsdCBvZiB0aGUgcHJldmlvdXMgc3RlcCBhcyB0aGUgaW5wdXQgdG8gdGhlIG5leHQgc3RlcC4KZnVuY3Rpb24gX3VwbG9hZEZpbGVzQ29udGludWUob3V0cHV0SWQpIHsKICBjb25zdCBvdXRwdXRFbGVtZW50ID0gZG9jdW1lbnQuZ2V0RWxlbWVudEJ5SWQob3V0cHV0SWQpOwogIGNvbnN0IHN0ZXBzID0gb3V0cHV0RWxlbWVudC5zdGVwczsKCiAgY29uc3QgbmV4dCA9IHN0ZXBzLm5leHQob3V0cHV0RWxlbWVudC5sYXN0UHJvbWlzZVZhbHVlKTsKICByZXR1cm4gUHJvbWlzZS5yZXNvbHZlKG5leHQudmFsdWUucHJvbWlzZSkudGhlbigodmFsdWUpID0+IHsKICAgIC8vIENhY2hlIHRoZSBsYXN0IHByb21pc2UgdmFsdWUgdG8gbWFrZSBpdCBhdmFpbGFibGUgdG8gdGhlIG5leHQKICAgIC8vIHN0ZXAgb2YgdGhlIGdlbmVyYXRvci4KICAgIG91dHB1dEVsZW1lbnQubGFzdFByb21pc2VWYWx1ZSA9IHZhbHVlOwogICAgcmV0dXJuIG5leHQudmFsdWUucmVzcG9uc2U7CiAgfSk7Cn0KCi8qKgogKiBHZW5lcmF0b3IgZnVuY3Rpb24gd2hpY2ggaXMgY2FsbGVkIGJldHdlZW4gZWFjaCBhc3luYyBzdGVwIG9mIHRoZSB1cGxvYWQKICogcHJvY2Vzcy4KICogQHBhcmFtIHtzdHJpbmd9IGlucHV0SWQgRWxlbWVudCBJRCBvZiB0aGUgaW5wdXQgZmlsZSBwaWNrZXIgZWxlbWVudC4KICogQHBhcmFtIHtzdHJpbmd9IG91dHB1dElkIEVsZW1lbnQgSUQgb2YgdGhlIG91dHB1dCBkaXNwbGF5LgogKiBAcmV0dXJuIHshSXRlcmFibGU8IU9iamVjdD59IEl0ZXJhYmxlIG9mIG5leHQgc3RlcHMuCiAqLwpmdW5jdGlvbiogdXBsb2FkRmlsZXNTdGVwKGlucHV0SWQsIG91dHB1dElkKSB7CiAgY29uc3QgaW5wdXRFbGVtZW50ID0gZG9jdW1lbnQuZ2V0RWxlbWVudEJ5SWQoaW5wdXRJZCk7CiAgaW5wdXRFbGVtZW50LmRpc2FibGVkID0gZmFsc2U7CgogIGNvbnN0IG91dHB1dEVsZW1lbnQgPSBkb2N1bWVudC5nZXRFbGVtZW50QnlJZChvdXRwdXRJZCk7CiAgb3V0cHV0RWxlbWVudC5pbm5lckhUTUwgPSAnJzsKCiAgY29uc3QgcGlja2VkUHJvbWlzZSA9IG5ldyBQcm9taXNlKChyZXNvbHZlKSA9PiB7CiAgICBpbnB1dEVsZW1lbnQuYWRkRXZlbnRMaXN0ZW5lcignY2hhbmdlJywgKGUpID0+IHsKICAgICAgcmVzb2x2ZShlLnRhcmdldC5maWxlcyk7CiAgICB9KTsKICB9KTsKCiAgY29uc3QgY2FuY2VsID0gZG9jdW1lbnQuY3JlYXRlRWxlbWVudCgnYnV0dG9uJyk7CiAgaW5wdXRFbGVtZW50LnBhcmVudEVsZW1lbnQuYXBwZW5kQ2hpbGQoY2FuY2VsKTsKICBjYW5jZWwudGV4dENvbnRlbnQgPSAnQ2FuY2VsIHVwbG9hZCc7CiAgY29uc3QgY2FuY2VsUHJvbWlzZSA9IG5ldyBQcm9taXNlKChyZXNvbHZlKSA9PiB7CiAgICBjYW5jZWwub25jbGljayA9ICgpID0+IHsKICAgICAgcmVzb2x2ZShudWxsKTsKICAgIH07CiAgfSk7CgogIC8vIENhbmNlbCB1cGxvYWQgaWYgdXNlciBoYXNuJ3QgcGlja2VkIGFueXRoaW5nIGluIHRpbWVvdXQuCiAgY29uc3QgdGltZW91dFByb21pc2UgPSBuZXcgUHJvbWlzZSgocmVzb2x2ZSkgPT4gewogICAgc2V0VGltZW91dCgoKSA9PiB7CiAgICAgIHJlc29sdmUobnVsbCk7CiAgICB9LCBGSUxFX0NIQU5HRV9USU1FT1VUX01TKTsKICB9KTsKCiAgLy8gV2FpdCBmb3IgdGhlIHVzZXIgdG8gcGljayB0aGUgZmlsZXMuCiAgY29uc3QgZmlsZXMgPSB5aWVsZCB7CiAgICBwcm9taXNlOiBQcm9taXNlLnJhY2UoW3BpY2tlZFByb21pc2UsIHRpbWVvdXRQcm9taXNlLCBjYW5jZWxQcm9taXNlXSksCiAgICByZXNwb25zZTogewogICAgICBhY3Rpb246ICdzdGFydGluZycsCiAgICB9CiAgfTsKCiAgaWYgKCFmaWxlcykgewogICAgcmV0dXJuIHsKICAgICAgcmVzcG9uc2U6IHsKICAgICAgICBhY3Rpb246ICdjb21wbGV0ZScsCiAgICAgIH0KICAgIH07CiAgfQoKICBjYW5jZWwucmVtb3ZlKCk7CgogIC8vIERpc2FibGUgdGhlIGlucHV0IGVsZW1lbnQgc2luY2UgZnVydGhlciBwaWNrcyBhcmUgbm90IGFsbG93ZWQuCiAgaW5wdXRFbGVtZW50LmRpc2FibGVkID0gdHJ1ZTsKCiAgZm9yIChjb25zdCBmaWxlIG9mIGZpbGVzKSB7CiAgICBjb25zdCBsaSA9IGRvY3VtZW50LmNyZWF0ZUVsZW1lbnQoJ2xpJyk7CiAgICBsaS5hcHBlbmQoc3BhbihmaWxlLm5hbWUsIHtmb250V2VpZ2h0OiAnYm9sZCd9KSk7CiAgICBsaS5hcHBlbmQoc3BhbigKICAgICAgICBgKCR7ZmlsZS50eXBlIHx8ICduL2EnfSkgLSAke2ZpbGUuc2l6ZX0gYnl0ZXMsIGAgKwogICAgICAgIGBsYXN0IG1vZGlmaWVkOiAkewogICAgICAgICAgICBmaWxlLmxhc3RNb2RpZmllZERhdGUgPyBmaWxlLmxhc3RNb2RpZmllZERhdGUudG9Mb2NhbGVEYXRlU3RyaW5nKCkgOgogICAgICAgICAgICAgICAgICAgICAgICAgICAgICAgICAgICAnbi9hJ30gLSBgKSk7CiAgICBjb25zdCBwZXJjZW50ID0gc3BhbignMCUgZG9uZScpOwogICAgbGkuYXBwZW5kQ2hpbGQocGVyY2VudCk7CgogICAgb3V0cHV0RWxlbWVudC5hcHBlbmRDaGlsZChsaSk7CgogICAgY29uc3QgZmlsZURhdGFQcm9taXNlID0gbmV3IFByb21pc2UoKHJlc29sdmUpID0+IHsKICAgICAgY29uc3QgcmVhZGVyID0gbmV3IEZpbGVSZWFkZXIoKTsKICAgICAgcmVhZGVyLm9ubG9hZCA9IChlKSA9PiB7CiAgICAgICAgcmVzb2x2ZShlLnRhcmdldC5yZXN1bHQpOwogICAgICB9OwogICAgICByZWFkZXIucmVhZEFzQXJyYXlCdWZmZXIoZmlsZSk7CiAgICB9KTsKICAgIC8vIFdhaXQgZm9yIHRoZSBkYXRhIHRvIGJlIHJlYWR5LgogICAgbGV0IGZpbGVEYXRhID0geWllbGQgewogICAgICBwcm9taXNlOiBmaWxlRGF0YVByb21pc2UsCiAgICAgIHJlc3BvbnNlOiB7CiAgICAgICAgYWN0aW9uOiAnY29udGludWUnLAogICAgICB9CiAgICB9OwoKICAgIC8vIFVzZSBhIGNodW5rZWQgc2VuZGluZyB0byBhdm9pZCBtZXNzYWdlIHNpemUgbGltaXRzLiBTZWUgYi82MjExNTY2MC4KICAgIGxldCBwb3NpdGlvbiA9IDA7CiAgICB3aGlsZSAocG9zaXRpb24gPCBmaWxlRGF0YS5ieXRlTGVuZ3RoKSB7CiAgICAgIGNvbnN0IGxlbmd0aCA9IE1hdGgubWluKGZpbGVEYXRhLmJ5dGVMZW5ndGggLSBwb3NpdGlvbiwgTUFYX1BBWUxPQURfU0laRSk7CiAgICAgIGNvbnN0IGNodW5rID0gbmV3IFVpbnQ4QXJyYXkoZmlsZURhdGEsIHBvc2l0aW9uLCBsZW5ndGgpOwogICAgICBwb3NpdGlvbiArPSBsZW5ndGg7CgogICAgICBjb25zdCBiYXNlNjQgPSBidG9hKFN0cmluZy5mcm9tQ2hhckNvZGUuYXBwbHkobnVsbCwgY2h1bmspKTsKICAgICAgeWllbGQgewogICAgICAgIHJlc3BvbnNlOiB7CiAgICAgICAgICBhY3Rpb246ICdhcHBlbmQnLAogICAgICAgICAgZmlsZTogZmlsZS5uYW1lLAogICAgICAgICAgZGF0YTogYmFzZTY0LAogICAgICAgIH0sCiAgICAgIH07CiAgICAgIHBlcmNlbnQudGV4dENvbnRlbnQgPQogICAgICAgICAgYCR7TWF0aC5yb3VuZCgocG9zaXRpb24gLyBmaWxlRGF0YS5ieXRlTGVuZ3RoKSAqIDEwMCl9JSBkb25lYDsKICAgIH0KICB9CgogIC8vIEFsbCBkb25lLgogIHlpZWxkIHsKICAgIHJlc3BvbnNlOiB7CiAgICAgIGFjdGlvbjogJ2NvbXBsZXRlJywKICAgIH0KICB9Owp9CgpzY29wZS5nb29nbGUgPSBzY29wZS5nb29nbGUgfHwge307CnNjb3BlLmdvb2dsZS5jb2xhYiA9IHNjb3BlLmdvb2dsZS5jb2xhYiB8fCB7fTsKc2NvcGUuZ29vZ2xlLmNvbGFiLl9maWxlcyA9IHsKICBfdXBsb2FkRmlsZXMsCiAgX3VwbG9hZEZpbGVzQ29udGludWUsCn07Cn0pKHNlbGYpOwo=",
       "headers": [
        [
         "content-type",
         "application/javascript"
        ]
       ],
       "ok": true,
       "status": 200,
       "status_text": ""
      }
     }
    },
    "colab_type": "code",
    "id": "vz-jH8T_Uk2c",
    "outputId": "b2fa3cd2-a3c5-4b6b-de6e-6a56bfad0c02"
   },
   "outputs": [
    {
     "ename": "ModuleNotFoundError",
     "evalue": "No module named 'google.colab'",
     "output_type": "error",
     "traceback": [
      "\u001b[0;31m---------------------------------------------------------------------------\u001b[0m",
      "\u001b[0;31mModuleNotFoundError\u001b[0m                       Traceback (most recent call last)",
      "\u001b[0;32m<ipython-input-60-b80109bf2692>\u001b[0m in \u001b[0;36m<module>\u001b[0;34m\u001b[0m\n\u001b[1;32m      1\u001b[0m \u001b[0;34m\u001b[0m\u001b[0m\n\u001b[0;32m----> 2\u001b[0;31m \u001b[0;32mfrom\u001b[0m \u001b[0mgoogle\u001b[0m\u001b[0;34m.\u001b[0m\u001b[0mcolab\u001b[0m \u001b[0;32mimport\u001b[0m \u001b[0mfiles\u001b[0m\u001b[0;34m\u001b[0m\u001b[0;34m\u001b[0m\u001b[0m\n\u001b[0m\u001b[1;32m      3\u001b[0m \u001b[0;34m\u001b[0m\u001b[0m\n\u001b[1;32m      4\u001b[0m \u001b[0muploaded\u001b[0m \u001b[0;34m=\u001b[0m \u001b[0mfiles\u001b[0m\u001b[0;34m.\u001b[0m\u001b[0mupload\u001b[0m\u001b[0;34m(\u001b[0m\u001b[0;34m)\u001b[0m\u001b[0;34m\u001b[0m\u001b[0;34m\u001b[0m\u001b[0m\n\u001b[1;32m      5\u001b[0m \u001b[0;34m\u001b[0m\u001b[0m\n",
      "\u001b[0;31mModuleNotFoundError\u001b[0m: No module named 'google.colab'"
     ]
    }
   ],
   "source": [
    "\n",
    "from google.colab import files\n",
    "\n",
    "uploaded = files.upload()\n",
    "\n",
    "for fn in uploaded.keys():\n",
    "  print('User uploaded file \"{name}\" with length {length} bytes'.format(\n",
    "      name=fn, length=len(uploaded[fn])))\n",
    "\n"
   ]
  },
  {
   "cell_type": "code",
   "execution_count": 81,
   "metadata": {
    "colab": {
     "base_uri": "https://localhost:8080/",
     "height": 298
    },
    "colab_type": "code",
    "id": "ZG5U3vE-pl1r",
    "outputId": "0b5dc8b8-daf3-4a0d-d67e-5b8fb920af9e"
   },
   "outputs": [
    {
     "name": "stdout",
     "output_type": "stream",
     "text": [
      "Shape of biotext data: (964, 4)\n"
     ]
    },
    {
     "data": {
      "text/html": [
       "<div>\n",
       "<style scoped>\n",
       "    .dataframe tbody tr th:only-of-type {\n",
       "        vertical-align: middle;\n",
       "    }\n",
       "\n",
       "    .dataframe tbody tr th {\n",
       "        vertical-align: top;\n",
       "    }\n",
       "\n",
       "    .dataframe thead th {\n",
       "        text-align: right;\n",
       "    }\n",
       "</style>\n",
       "<table border=\"1\" class=\"dataframe\">\n",
       "  <thead>\n",
       "    <tr style=\"text-align: right;\">\n",
       "      <th></th>\n",
       "      <th>sentence</th>\n",
       "      <th>type</th>\n",
       "      <th>term1</th>\n",
       "      <th>term2</th>\n",
       "    </tr>\n",
       "  </thead>\n",
       "  <tbody>\n",
       "    <tr>\n",
       "      <th>0</th>\n",
       "      <td>We conclude that to reduce the rate of  macros...</td>\n",
       "      <td>PREVENT</td>\n",
       "      <td>GOOD GLYCEMIC CONTROL</td>\n",
       "      <td>MACROSOMIC INFANTS IN GESTATIONAL DIABETES CA...</td>\n",
       "    </tr>\n",
       "    <tr>\n",
       "      <th>1</th>\n",
       "      <td>Although long-term survival can be achieved by...</td>\n",
       "      <td>VAGUE</td>\n",
       "      <td>CORRECTIVE SURGERY</td>\n",
       "      <td>HYPOPLASIA</td>\n",
       "    </tr>\n",
       "    <tr>\n",
       "      <th>2</th>\n",
       "      <td>OBJECTIVE : To study the safety and efficacy ...</td>\n",
       "      <td>TREAT_FOR_DIS</td>\n",
       "      <td>METHYLPHENIDATE</td>\n",
       "      <td>ATTENTION DEFICIT HYPERACTIVITY DISORDER ( AD...</td>\n",
       "    </tr>\n",
       "    <tr>\n",
       "      <th>3</th>\n",
       "      <td>CONCLUSION :  Methylphenidate  is effective in...</td>\n",
       "      <td>TREAT_FOR_DIS</td>\n",
       "      <td>METHYLPHENIDATE</td>\n",
       "      <td>ADHD</td>\n",
       "    </tr>\n",
       "    <tr>\n",
       "      <th>4</th>\n",
       "      <td>BACKGROUND :  Antiplatelet therapy with aspir...</td>\n",
       "      <td>TREAT_FOR_DIS</td>\n",
       "      <td>ANTIPLATELET THERAPY WITH ASPIRIN AND SYSTEMA...</td>\n",
       "      <td>CARDIOVASCULAR MORBIDITY AND MORTALITY AFTER ...</td>\n",
       "    </tr>\n",
       "  </tbody>\n",
       "</table>\n",
       "</div>"
      ],
      "text/plain": [
       "                                            sentence           type  \\\n",
       "0  We conclude that to reduce the rate of  macros...        PREVENT   \n",
       "1  Although long-term survival can be achieved by...          VAGUE   \n",
       "2   OBJECTIVE : To study the safety and efficacy ...  TREAT_FOR_DIS   \n",
       "3  CONCLUSION :  Methylphenidate  is effective in...  TREAT_FOR_DIS   \n",
       "4   BACKGROUND :  Antiplatelet therapy with aspir...  TREAT_FOR_DIS   \n",
       "\n",
       "                                               term1  \\\n",
       "0                             GOOD GLYCEMIC CONTROL    \n",
       "1                                CORRECTIVE SURGERY    \n",
       "2                                   METHYLPHENIDATE    \n",
       "3                                   METHYLPHENIDATE    \n",
       "4   ANTIPLATELET THERAPY WITH ASPIRIN AND SYSTEMA...   \n",
       "\n",
       "                                               term2  \n",
       "0   MACROSOMIC INFANTS IN GESTATIONAL DIABETES CA...  \n",
       "1                                        HYPOPLASIA   \n",
       "2   ATTENTION DEFICIT HYPERACTIVITY DISORDER ( AD...  \n",
       "3                                              ADHD   \n",
       "4   CARDIOVASCULAR MORBIDITY AND MORTALITY AFTER ...  "
      ]
     },
     "execution_count": 81,
     "metadata": {},
     "output_type": "execute_result"
    }
   ],
   "source": [
    "# Some preprocessing\n",
    "\n",
    "f = open('./biotext.txt', encoding = \"ISO-8859-1\")\n",
    "f_data = []\n",
    "for line in f.readlines():\n",
    "    line = line[:-1] # Remove linebreak\n",
    "    f_data.append(line.split('||'))\n",
    "f.close()\n",
    "\n",
    "rows = []\n",
    "for l in f_data:\n",
    "    if l[1] not in ['NONE', 'TREATONLY', 'DISONLY', 'TO_SEE']:\n",
    "        dis_re = re.compile('<DIS.*>(.*)</DIS.*>')\n",
    "        disease = dis_re.search(l[0]).group(1)\n",
    "        treat_re = re.compile('<TREAT.*>(.*)</TREAT.*>')\n",
    "        treat = treat_re.search(l[0]).group(1)\n",
    "        \n",
    "        sent = re.sub(r'<.*?>', '', l[0])\n",
    "        \n",
    "        rows.append([sent, l[1], treat.upper(), disease.upper()])\n",
    "\n",
    "biotext = pd.DataFrame(data=rows, columns=['sentence', 'type', 'term1', 'term2'])\n",
    "print('Shape of biotext data: {}'.format(biotext.shape))\n",
    "biotext.head()"
   ]
  },
  {
   "cell_type": "code",
   "execution_count": 43,
   "metadata": {
    "colab": {
     "base_uri": "https://localhost:8080/",
     "height": 54
    },
    "colab_type": "code",
    "id": "8tmkcWnYpl1t",
    "outputId": "d0d384eb-66bb-4f77-9d83-b68661656280"
   },
   "outputs": [
    {
     "data": {
      "text/plain": [
       "'We conclude that to reduce the rate of  macrosomic infants in gestational diabetes cases  ,  good glycemic control  should be initiated before 34 completed gestational weeks .'"
      ]
     },
     "execution_count": 43,
     "metadata": {},
     "output_type": "execute_result"
    }
   ],
   "source": [
    "biotext.sentence[0]"
   ]
  },
  {
   "cell_type": "markdown",
   "metadata": {
    "colab_type": "text",
    "id": "ygE6hHpZpl1w"
   },
   "source": [
    "**Adverse Drug Effects Corpus:** https://github.com/davidsbatista/Annotated-Semantic-Relationships-Datasets/blob/master/datasets/ADE-Corpus-V2.zip\n",
    "\n",
    "Contains annotated MEDLINE articles with causal relations between drugs and adverse effects."
   ]
  },
  {
   "cell_type": "code",
   "execution_count": 82,
   "metadata": {
    "colab": {},
    "colab_type": "code",
    "id": "3R5tdRF0pl1w"
   },
   "outputs": [],
   "source": [
    "USE_ADE = False"
   ]
  },
  {
   "cell_type": "code",
   "execution_count": 11,
   "metadata": {
    "colab": {
     "base_uri": "https://localhost:8080/",
     "height": 92,
     "resources": {
      "http://localhost:8080/nbextensions/google.colab/files.js": {
       "data": "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",
       "headers": [
        [
         "content-type",
         "application/javascript"
        ]
       ],
       "ok": true,
       "status": 200,
       "status_text": ""
      }
     }
    },
    "colab_type": "code",
    "id": "N-Q8lHMlsWBc",
    "outputId": "bbf777af-6bd7-4ded-d326-524947254748"
   },
   "outputs": [
    {
     "ename": "ModuleNotFoundError",
     "evalue": "No module named 'google.colab'",
     "output_type": "error",
     "traceback": [
      "\u001b[0;31m---------------------------------------------------------------------------\u001b[0m",
      "\u001b[0;31mModuleNotFoundError\u001b[0m                       Traceback (most recent call last)",
      "\u001b[0;32m<ipython-input-11-f8b922b1d509>\u001b[0m in \u001b[0;36m<module>\u001b[0;34m\u001b[0m\n\u001b[1;32m      1\u001b[0m \u001b[0;34m\u001b[0m\u001b[0m\n\u001b[0;32m----> 2\u001b[0;31m \u001b[0;32mfrom\u001b[0m \u001b[0mgoogle\u001b[0m\u001b[0;34m.\u001b[0m\u001b[0mcolab\u001b[0m \u001b[0;32mimport\u001b[0m \u001b[0mfiles\u001b[0m\u001b[0;34m\u001b[0m\u001b[0;34m\u001b[0m\u001b[0m\n\u001b[0m\u001b[1;32m      3\u001b[0m \u001b[0;34m\u001b[0m\u001b[0m\n\u001b[1;32m      4\u001b[0m \u001b[0muploaded\u001b[0m \u001b[0;34m=\u001b[0m \u001b[0mfiles\u001b[0m\u001b[0;34m.\u001b[0m\u001b[0mupload\u001b[0m\u001b[0;34m(\u001b[0m\u001b[0;34m)\u001b[0m\u001b[0;34m\u001b[0m\u001b[0;34m\u001b[0m\u001b[0m\n\u001b[1;32m      5\u001b[0m \u001b[0;34m\u001b[0m\u001b[0m\n",
      "\u001b[0;31mModuleNotFoundError\u001b[0m: No module named 'google.colab'"
     ]
    }
   ],
   "source": [
    "\n",
    "from google.colab import files\n",
    "\n",
    "uploaded = files.upload()\n",
    "\n",
    "for fn in uploaded.keys():\n",
    "  print('User uploaded file \"{name}\" with length {length} bytes'.format(\n",
    "      name=fn, length=len(uploaded[fn])))\n"
   ]
  },
  {
   "cell_type": "code",
   "execution_count": 83,
   "metadata": {
    "colab": {
     "base_uri": "https://localhost:8080/",
     "height": 215
    },
    "colab_type": "code",
    "id": "QCl0id2Kpl1y",
    "outputId": "3367330d-2fd4-482b-c54e-9f0d3b5ae381"
   },
   "outputs": [
    {
     "name": "stdout",
     "output_type": "stream",
     "text": [
      "Shape of ADE data: (964, 4)\n"
     ]
    },
    {
     "data": {
      "text/html": [
       "<div>\n",
       "<style scoped>\n",
       "    .dataframe tbody tr th:only-of-type {\n",
       "        vertical-align: middle;\n",
       "    }\n",
       "\n",
       "    .dataframe tbody tr th {\n",
       "        vertical-align: top;\n",
       "    }\n",
       "\n",
       "    .dataframe thead th {\n",
       "        text-align: right;\n",
       "    }\n",
       "</style>\n",
       "<table border=\"1\" class=\"dataframe\">\n",
       "  <thead>\n",
       "    <tr style=\"text-align: right;\">\n",
       "      <th></th>\n",
       "      <th>sentence</th>\n",
       "      <th>term1</th>\n",
       "      <th>type</th>\n",
       "      <th>term2</th>\n",
       "    </tr>\n",
       "  </thead>\n",
       "  <tbody>\n",
       "    <tr>\n",
       "      <th>3043</th>\n",
       "      <td>Torsade de pointes associated with moxifloxaci...</td>\n",
       "      <td>TORSADE DE POINTES</td>\n",
       "      <td>CAUSE</td>\n",
       "      <td>MOXIFLOXACIN</td>\n",
       "    </tr>\n",
       "    <tr>\n",
       "      <th>4772</th>\n",
       "      <td>Three patients developed proteinuria following...</td>\n",
       "      <td>PROTEINURIA</td>\n",
       "      <td>CAUSE</td>\n",
       "      <td>GOLD</td>\n",
       "    </tr>\n",
       "    <tr>\n",
       "      <th>2993</th>\n",
       "      <td>An apparent link is described between the use ...</td>\n",
       "      <td>RED BLOOD CELL ANEMIA</td>\n",
       "      <td>CAUSE</td>\n",
       "      <td>MMF</td>\n",
       "    </tr>\n",
       "    <tr>\n",
       "      <th>1801</th>\n",
       "      <td>5-fluorouracil (5-FU)-associated peripheral ne...</td>\n",
       "      <td>PERIPHERAL NEUROPATHY</td>\n",
       "      <td>CAUSE</td>\n",
       "      <td>5-FLUOROURACIL</td>\n",
       "    </tr>\n",
       "    <tr>\n",
       "      <th>3693</th>\n",
       "      <td>CONCLUSIONS: Spontaneous hemothorax is a rare ...</td>\n",
       "      <td>SPONTANEOUS HEMOTHORAX</td>\n",
       "      <td>CAUSE</td>\n",
       "      <td>LMWH</td>\n",
       "    </tr>\n",
       "  </tbody>\n",
       "</table>\n",
       "</div>"
      ],
      "text/plain": [
       "                                               sentence  \\\n",
       "3043  Torsade de pointes associated with moxifloxaci...   \n",
       "4772  Three patients developed proteinuria following...   \n",
       "2993  An apparent link is described between the use ...   \n",
       "1801  5-fluorouracil (5-FU)-associated peripheral ne...   \n",
       "3693  CONCLUSIONS: Spontaneous hemothorax is a rare ...   \n",
       "\n",
       "                       term1   type           term2  \n",
       "3043      TORSADE DE POINTES  CAUSE    MOXIFLOXACIN  \n",
       "4772             PROTEINURIA  CAUSE            GOLD  \n",
       "2993   RED BLOOD CELL ANEMIA  CAUSE             MMF  \n",
       "1801   PERIPHERAL NEUROPATHY  CAUSE  5-FLUOROURACIL  \n",
       "3693  SPONTANEOUS HEMOTHORAX  CAUSE            LMWH  "
      ]
     },
     "execution_count": 83,
     "metadata": {},
     "output_type": "execute_result"
    }
   ],
   "source": [
    "cause_ade_raw = pd.read_csv('./DRUG-AE.csv', sep = '|', header = None)\n",
    "cause_ade_raw.columns = ['PID','sentence','term1','sp1','sp2','term2', 'sp3', 'sp4']\n",
    "drop_cols = ['PID','sp1', 'sp2', 'sp3', 'sp4']\n",
    "cause_ade = cause_ade_raw.drop(columns=drop_cols)\n",
    "cause_ade = cause_ade.dropna()\n",
    "cause_ade.insert(2, 'type', 'CAUSE')\n",
    "cause_ade.drop_duplicates(subset='sentence', keep='first', inplace=True)\n",
    "cause_ade['term1'] = cause_ade['term1'].apply(lambda x: x.upper())\n",
    "cause_ade['term2'] = cause_ade['term2'].apply(lambda x: x.upper())\n",
    "cause_ade = cause_ade.sample(n=964, random_state=RANDOM_SEED)\n",
    "print('Shape of ADE data: {}'.format(cause_ade.shape))\n",
    "cause_ade.head()"
   ]
  },
  {
   "cell_type": "markdown",
   "metadata": {
    "colab_type": "text",
    "id": "BjG2H_D5pl10"
   },
   "source": [
    "### Creating Training data\n",
    "\n",
    "We split the data into Train, Dev and Test sets and add a label column to represent the true class label.\n",
    "\n",
    "Class labels: "
   ]
  },
  {
   "cell_type": "code",
   "execution_count": 84,
   "metadata": {
    "colab": {},
    "colab_type": "code",
    "id": "W7a_P6LRpl11"
   },
   "outputs": [],
   "source": [
    "ABSTAIN = -1 # returned by abstaining LFs\n",
    "NO_RELATION = 0\n",
    "CAUSE = 1\n",
    "TREAT = 2"
   ]
  },
  {
   "cell_type": "code",
   "execution_count": 85,
   "metadata": {
    "colab": {
     "base_uri": "https://localhost:8080/",
     "height": 197
    },
    "colab_type": "code",
    "id": "Dk3V95SFpl13",
    "outputId": "2b20666d-bdad-459e-fed9-a2611f7688b0",
    "scrolled": true
   },
   "outputs": [
    {
     "data": {
      "text/html": [
       "<div>\n",
       "<style scoped>\n",
       "    .dataframe tbody tr th:only-of-type {\n",
       "        vertical-align: middle;\n",
       "    }\n",
       "\n",
       "    .dataframe tbody tr th {\n",
       "        vertical-align: top;\n",
       "    }\n",
       "\n",
       "    .dataframe thead th {\n",
       "        text-align: right;\n",
       "    }\n",
       "</style>\n",
       "<table border=\"1\" class=\"dataframe\">\n",
       "  <thead>\n",
       "    <tr style=\"text-align: right;\">\n",
       "      <th></th>\n",
       "      <th>SID</th>\n",
       "      <th>crowd_cause</th>\n",
       "      <th>baseline_cause</th>\n",
       "      <th>expert_cause</th>\n",
       "      <th>term1</th>\n",
       "      <th>term2</th>\n",
       "      <th>sentence</th>\n",
       "      <th>crowd_treat</th>\n",
       "      <th>baseline_treat</th>\n",
       "      <th>expert_treat</th>\n",
       "    </tr>\n",
       "  </thead>\n",
       "  <tbody>\n",
       "    <tr>\n",
       "      <th>2344</th>\n",
       "      <td>820001</td>\n",
       "      <td>-0.823223</td>\n",
       "      <td>-1</td>\n",
       "      <td>-1.0</td>\n",
       "      <td>ANGI PECTORIS</td>\n",
       "      <td>METOPROLOL</td>\n",
       "      <td>Keech AC, Harper RW, Harrison PM et al. Pharma...</td>\n",
       "      <td>0.707107</td>\n",
       "      <td>1</td>\n",
       "      <td>-1.0</td>\n",
       "    </tr>\n",
       "    <tr>\n",
       "      <th>2345</th>\n",
       "      <td>820003</td>\n",
       "      <td>0.755929</td>\n",
       "      <td>-1</td>\n",
       "      <td>-1.0</td>\n",
       "      <td>HYPOGLYCEMIA</td>\n",
       "      <td>GLUCOSE</td>\n",
       "      <td>Cortisol and growth hormone are also secreted ...</td>\n",
       "      <td>0.733017</td>\n",
       "      <td>1</td>\n",
       "      <td>-1.0</td>\n",
       "    </tr>\n",
       "    <tr>\n",
       "      <th>2346</th>\n",
       "      <td>820004</td>\n",
       "      <td>-0.767505</td>\n",
       "      <td>-1</td>\n",
       "      <td>-1.0</td>\n",
       "      <td>NOCTURL HYPOGLYCEMIA</td>\n",
       "      <td>FASTING BLOOD GLUCOSE</td>\n",
       "      <td>The risk of NOCTURL HYPOGLYCEMIA is lower with...</td>\n",
       "      <td>0.929981</td>\n",
       "      <td>1</td>\n",
       "      <td>-1.0</td>\n",
       "    </tr>\n",
       "    <tr>\n",
       "      <th>2347</th>\n",
       "      <td>820005</td>\n",
       "      <td>0.943456</td>\n",
       "      <td>-1</td>\n",
       "      <td>-1.0</td>\n",
       "      <td>HYPERGLYCEMIA</td>\n",
       "      <td>INSULIN</td>\n",
       "      <td>a •  Increases glycogenolysis in the liver, re...</td>\n",
       "      <td>-0.685515</td>\n",
       "      <td>1</td>\n",
       "      <td>-1.0</td>\n",
       "    </tr>\n",
       "    <tr>\n",
       "      <th>2348</th>\n",
       "      <td>820009</td>\n",
       "      <td>0.603023</td>\n",
       "      <td>-1</td>\n",
       "      <td>-1.0</td>\n",
       "      <td>RHEUMATOID ARTHRITIS</td>\n",
       "      <td>AKINRA</td>\n",
       "      <td>1  Specific Drugs         Drug Interaction Com...</td>\n",
       "      <td>-0.698489</td>\n",
       "      <td>1</td>\n",
       "      <td>-1.0</td>\n",
       "    </tr>\n",
       "  </tbody>\n",
       "</table>\n",
       "</div>"
      ],
      "text/plain": [
       "         SID  crowd_cause  baseline_cause  expert_cause                 term1  \\\n",
       "2344  820001    -0.823223              -1          -1.0         ANGI PECTORIS   \n",
       "2345  820003     0.755929              -1          -1.0          HYPOGLYCEMIA   \n",
       "2346  820004    -0.767505              -1          -1.0  NOCTURL HYPOGLYCEMIA   \n",
       "2347  820005     0.943456              -1          -1.0         HYPERGLYCEMIA   \n",
       "2348  820009     0.603023              -1          -1.0  RHEUMATOID ARTHRITIS   \n",
       "\n",
       "                      term2  \\\n",
       "2344             METOPROLOL   \n",
       "2345                GLUCOSE   \n",
       "2346  FASTING BLOOD GLUCOSE   \n",
       "2347                INSULIN   \n",
       "2348                 AKINRA   \n",
       "\n",
       "                                               sentence  crowd_treat  \\\n",
       "2344  Keech AC, Harper RW, Harrison PM et al. Pharma...     0.707107   \n",
       "2345  Cortisol and growth hormone are also secreted ...     0.733017   \n",
       "2346  The risk of NOCTURL HYPOGLYCEMIA is lower with...     0.929981   \n",
       "2347  a •  Increases glycogenolysis in the liver, re...    -0.685515   \n",
       "2348  1  Specific Drugs         Drug Interaction Com...    -0.698489   \n",
       "\n",
       "      baseline_treat  expert_treat  \n",
       "2344               1          -1.0  \n",
       "2345               1          -1.0  \n",
       "2346               1          -1.0  \n",
       "2347               1          -1.0  \n",
       "2348               1          -1.0  "
      ]
     },
     "execution_count": 85,
     "metadata": {},
     "output_type": "execute_result"
    }
   ],
   "source": [
    "# Set expert rows to truth value (rather than saying wether baseline is correct)\n",
    "data['expert_cause'] == data['baseline_cause'].where(data['expert_cause'] == 1)\n",
    "data['expert_cause'] == -data['baseline_cause'].where(data['expert_cause'] == -1)\n",
    "data['expert_treat'] == data['baseline_treat'].where(data['expert_treat'] == 1)\n",
    "data['expert_treat'] == -data['baseline_treat'].where(data['expert_treat'] == -1)\n",
    "\n",
    "data[data['expert_cause'].notnull()].head()"
   ]
  },
  {
   "cell_type": "code",
   "execution_count": 86,
   "metadata": {
    "colab": {
     "base_uri": "https://localhost:8080/",
     "height": 238
    },
    "colab_type": "code",
    "id": "IOrGrJJCpl16",
    "outputId": "45bb09bc-09bc-469f-a725-86be8bfb28f8"
   },
   "outputs": [],
   "source": [
    "# Load biotext data\n",
    "if USE_BIOTEXT:\n",
    "    char_arr = np.chararray((biotext.shape[0], 10), unicode=True)\n",
    "    biotext_df = pd.DataFrame(char_arr, columns=data.columns)\n",
    "    biotext_df['sentence'] = biotext['sentence'].values\n",
    "    biotext_df['term1'] = biotext['term1'].values\n",
    "    biotext_df['term2'] = biotext['term2'].values\n",
    "    biotext_df['expert_cause'] = None\n",
    "    biotext_df['expert_treat'] = None\n",
    "    last_sid = int(data['SID'].max(axis=0))\n",
    "    biotext_df['SID'] = np.arange(last_sid + 1, last_sid + 1 + biotext.shape[0])\n",
    "    data = pd.concat([data, biotext_df])"
   ]
  },
  {
   "cell_type": "code",
   "execution_count": 87,
   "metadata": {
    "colab": {},
    "colab_type": "code",
    "id": "6PV05mh9pl18"
   },
   "outputs": [],
   "source": [
    "# Load ADE data\n",
    "if USE_ADE:\n",
    "    char_arr_ade = np.chararray((cause_ade.shape[0], 10), unicode=True)\n",
    "    ade_df = pd.DataFrame(char_arr_ade, columns=data.columns)\n",
    "    ade_df['sentence'] = cause_ade['sentence'].values\n",
    "    ade_df['term1'] = cause_ade['term1'].values\n",
    "    ade_df['term2'] = cause_ade['term2'].values\n",
    "    ade_df['expert_cause'] = None\n",
    "    ade_df['expert_treat'] = None\n",
    "    last_sid = int(data['SID'].max(axis=0))\n",
    "    ade_df['SID'] = np.arange(last_sid + 1, last_sid + 1 + cause_ade.shape[0])\n",
    "    data = pd.concat([data, ade_df])"
   ]
  },
  {
   "cell_type": "code",
   "execution_count": 88,
   "metadata": {
    "colab": {
     "base_uri": "https://localhost:8080/",
     "height": 364
    },
    "colab_type": "code",
    "id": "Lr0Nny0Gpl1-",
    "outputId": "c333d8ea-509c-44b4-e734-e5c13e682751"
   },
   "outputs": [
    {
     "data": {
      "text/html": [
       "<div>\n",
       "<style scoped>\n",
       "    .dataframe tbody tr th:only-of-type {\n",
       "        vertical-align: middle;\n",
       "    }\n",
       "\n",
       "    .dataframe tbody tr th {\n",
       "        vertical-align: top;\n",
       "    }\n",
       "\n",
       "    .dataframe thead th {\n",
       "        text-align: right;\n",
       "    }\n",
       "</style>\n",
       "<table border=\"1\" class=\"dataframe\">\n",
       "  <thead>\n",
       "    <tr style=\"text-align: right;\">\n",
       "      <th></th>\n",
       "      <th>SID</th>\n",
       "      <th>crowd_cause</th>\n",
       "      <th>baseline_cause</th>\n",
       "      <th>expert_cause</th>\n",
       "      <th>term1</th>\n",
       "      <th>term2</th>\n",
       "      <th>sentence</th>\n",
       "      <th>crowd_treat</th>\n",
       "      <th>baseline_treat</th>\n",
       "      <th>expert_treat</th>\n",
       "    </tr>\n",
       "  </thead>\n",
       "  <tbody>\n",
       "    <tr>\n",
       "      <th>3979</th>\n",
       "      <td>908349</td>\n",
       "      <td>-0.765918</td>\n",
       "      <td>-1</td>\n",
       "      <td>-1.0</td>\n",
       "      <td>PARKINSON'S DISEASE</td>\n",
       "      <td>AMANTADINE</td>\n",
       "      <td>A 61 year old man with PARKINSON'S DISEASE (PD...</td>\n",
       "      <td>0.929981</td>\n",
       "      <td>1</td>\n",
       "      <td>1.0</td>\n",
       "    </tr>\n",
       "    <tr>\n",
       "      <th>3980</th>\n",
       "      <td>908350</td>\n",
       "      <td>-0.558274</td>\n",
       "      <td>-1</td>\n",
       "      <td>-1.0</td>\n",
       "      <td>DEPRESSION</td>\n",
       "      <td>IMIPRAMINE</td>\n",
       "      <td>With successful treatment of the patient's dep...</td>\n",
       "      <td>0.866025</td>\n",
       "      <td>1</td>\n",
       "      <td>1.0</td>\n",
       "    </tr>\n",
       "    <tr>\n",
       "      <th>3981</th>\n",
       "      <td>908351</td>\n",
       "      <td>-0.558274</td>\n",
       "      <td>-1</td>\n",
       "      <td>-1.0</td>\n",
       "      <td>BEPRIDIL</td>\n",
       "      <td>ANGI</td>\n",
       "      <td>Five of 15 patients receiving bepridil did not...</td>\n",
       "      <td>0.878114</td>\n",
       "      <td>1</td>\n",
       "      <td>1.0</td>\n",
       "    </tr>\n",
       "    <tr>\n",
       "      <th>3982</th>\n",
       "      <td>908360</td>\n",
       "      <td>-0.839872</td>\n",
       "      <td>-1</td>\n",
       "      <td>-1.0</td>\n",
       "      <td>HEMOPHILIA A</td>\n",
       "      <td>FACTOR VIII</td>\n",
       "      <td>The development of antibodies to factor VIII i...</td>\n",
       "      <td>0.956183</td>\n",
       "      <td>1</td>\n",
       "      <td>1.0</td>\n",
       "    </tr>\n",
       "    <tr>\n",
       "      <th>3983</th>\n",
       "      <td>908361</td>\n",
       "      <td>0.560112</td>\n",
       "      <td>-1</td>\n",
       "      <td>-1.0</td>\n",
       "      <td>FOOD STIMULATED GASTRO OESOPHAGEAL REFLUX MECH...</td>\n",
       "      <td>CISAPRIDE</td>\n",
       "      <td>The influence of CISAPRIDE on FOOD STIMULATED ...</td>\n",
       "      <td>-0.599108</td>\n",
       "      <td>1</td>\n",
       "      <td>1.0</td>\n",
       "    </tr>\n",
       "  </tbody>\n",
       "</table>\n",
       "</div>"
      ],
      "text/plain": [
       "         SID  crowd_cause  baseline_cause  expert_cause  \\\n",
       "3979  908349    -0.765918              -1          -1.0   \n",
       "3980  908350    -0.558274              -1          -1.0   \n",
       "3981  908351    -0.558274              -1          -1.0   \n",
       "3982  908360    -0.839872              -1          -1.0   \n",
       "3983  908361     0.560112              -1          -1.0   \n",
       "\n",
       "                                                  term1        term2  \\\n",
       "3979                                PARKINSON'S DISEASE   AMANTADINE   \n",
       "3980                                         DEPRESSION   IMIPRAMINE   \n",
       "3981                                           BEPRIDIL         ANGI   \n",
       "3982                                       HEMOPHILIA A  FACTOR VIII   \n",
       "3983  FOOD STIMULATED GASTRO OESOPHAGEAL REFLUX MECH...    CISAPRIDE   \n",
       "\n",
       "                                               sentence  crowd_treat  \\\n",
       "3979  A 61 year old man with PARKINSON'S DISEASE (PD...     0.929981   \n",
       "3980  With successful treatment of the patient's dep...     0.866025   \n",
       "3981  Five of 15 patients receiving bepridil did not...     0.878114   \n",
       "3982  The development of antibodies to factor VIII i...     0.956183   \n",
       "3983  The influence of CISAPRIDE on FOOD STIMULATED ...    -0.599108   \n",
       "\n",
       "      baseline_treat  expert_treat  \n",
       "3979               1           1.0  \n",
       "3980               1           1.0  \n",
       "3981               1           1.0  \n",
       "3982               1           1.0  \n",
       "3983               1           1.0  "
      ]
     },
     "execution_count": 88,
     "metadata": {},
     "output_type": "execute_result"
    }
   ],
   "source": [
    "data.tail()"
   ]
  },
  {
   "cell_type": "code",
   "execution_count": 89,
   "metadata": {
    "colab": {
     "base_uri": "https://localhost:8080/",
     "height": 268
    },
    "colab_type": "code",
    "id": "uatfBlYRpl2B",
    "outputId": "862080a5-7f53-4c9e-d521-92fb9383ba8d"
   },
   "outputs": [
    {
     "name": "stdout",
     "output_type": "stream",
     "text": [
      "Training samples: 3363\n",
      "Dev samples: 173\n",
      "Validation samples: 323\n",
      "Test samples: 125\n"
     ]
    },
    {
     "data": {
      "text/html": [
       "<div>\n",
       "<style scoped>\n",
       "    .dataframe tbody tr th:only-of-type {\n",
       "        vertical-align: middle;\n",
       "    }\n",
       "\n",
       "    .dataframe tbody tr th {\n",
       "        vertical-align: top;\n",
       "    }\n",
       "\n",
       "    .dataframe thead th {\n",
       "        text-align: right;\n",
       "    }\n",
       "</style>\n",
       "<table border=\"1\" class=\"dataframe\">\n",
       "  <thead>\n",
       "    <tr style=\"text-align: right;\">\n",
       "      <th></th>\n",
       "      <th>crowd_cause</th>\n",
       "      <th>baseline_cause</th>\n",
       "      <th>expert_cause</th>\n",
       "      <th>crowd_treat</th>\n",
       "      <th>baseline_treat</th>\n",
       "      <th>expert_treat</th>\n",
       "      <th>label</th>\n",
       "    </tr>\n",
       "  </thead>\n",
       "  <tbody>\n",
       "    <tr>\n",
       "      <th>3734</th>\n",
       "      <td>-1.000000</td>\n",
       "      <td>-1</td>\n",
       "      <td>-1.0</td>\n",
       "      <td>0.985329</td>\n",
       "      <td>1</td>\n",
       "      <td>1.0</td>\n",
       "      <td>2.0</td>\n",
       "    </tr>\n",
       "    <tr>\n",
       "      <th>3958</th>\n",
       "      <td>-1.000000</td>\n",
       "      <td>-1</td>\n",
       "      <td>-1.0</td>\n",
       "      <td>0.993127</td>\n",
       "      <td>1</td>\n",
       "      <td>1.0</td>\n",
       "      <td>2.0</td>\n",
       "    </tr>\n",
       "    <tr>\n",
       "      <th>3900</th>\n",
       "      <td>-0.892789</td>\n",
       "      <td>-1</td>\n",
       "      <td>-1.0</td>\n",
       "      <td>0.948683</td>\n",
       "      <td>1</td>\n",
       "      <td>1.0</td>\n",
       "      <td>2.0</td>\n",
       "    </tr>\n",
       "    <tr>\n",
       "      <th>3216</th>\n",
       "      <td>-0.769060</td>\n",
       "      <td>1</td>\n",
       "      <td>1.0</td>\n",
       "      <td>-0.884530</td>\n",
       "      <td>-1</td>\n",
       "      <td>-1.0</td>\n",
       "      <td>1.0</td>\n",
       "    </tr>\n",
       "    <tr>\n",
       "      <th>2407</th>\n",
       "      <td>-0.638842</td>\n",
       "      <td>-1</td>\n",
       "      <td>-1.0</td>\n",
       "      <td>-0.638842</td>\n",
       "      <td>1</td>\n",
       "      <td>-1.0</td>\n",
       "      <td>0.0</td>\n",
       "    </tr>\n",
       "  </tbody>\n",
       "</table>\n",
       "</div>"
      ],
      "text/plain": [
       "      crowd_cause  baseline_cause  expert_cause  crowd_treat  baseline_treat  \\\n",
       "3734    -1.000000              -1          -1.0     0.985329               1   \n",
       "3958    -1.000000              -1          -1.0     0.993127               1   \n",
       "3900    -0.892789              -1          -1.0     0.948683               1   \n",
       "3216    -0.769060               1           1.0    -0.884530              -1   \n",
       "2407    -0.638842              -1          -1.0    -0.638842               1   \n",
       "\n",
       "      expert_treat  label  \n",
       "3734           1.0    2.0  \n",
       "3958           1.0    2.0  \n",
       "3900           1.0    2.0  \n",
       "3216          -1.0    1.0  \n",
       "2407          -1.0    0.0  "
      ]
     },
     "execution_count": 89,
     "metadata": {},
     "output_type": "execute_result"
    }
   ],
   "source": [
    "# Filter out all rows where there is either no expert label or only one expert label == False \n",
    "# (-> we don't know the ground truth), expert labels are never 1 both at the same time\n",
    "train = data[(data['expert_cause'].isnull() & data['expert_treat'].isnull()) |\n",
    "                 (data['expert_cause'].isnull() & (data['expert_treat'] == -1)) |\n",
    "                 (data['expert_treat'].isnull() & (data['expert_cause'] == -1))\n",
    "            ].copy()\n",
    "\n",
    "print('Training samples: {}'.format(train.shape[0]))\n",
    "\n",
    "expert = data[~data['SID'].isin(train['SID'])].copy()\n",
    "expert.loc[(expert['expert_cause'] == -1) & (expert['expert_treat'] == -1), 'label'] = NO_RELATION\n",
    "expert.loc[expert['expert_cause'] == 1, 'label'] = CAUSE\n",
    "expert.loc[expert['expert_treat'] == 1, 'label'] = TREAT\n",
    "\n",
    "val, test = train_test_split(expert, test_size=0.2, random_state=RANDOM_SEED)\n",
    "dev, val = train_test_split(val, test_size=0.65, random_state=RANDOM_SEED)\n",
    "print('Dev samples: {}'.format(dev.shape[0]))\n",
    "print('Validation samples: {}'.format(val.shape[0]))\n",
    "print('Test samples: {}'.format(test.shape[0]))\n",
    "\n",
    "dev[['crowd_cause', 'baseline_cause', 'expert_cause', 'crowd_treat', 'baseline_treat', 'expert_treat', 'label']].head()"
   ]
  },
  {
   "cell_type": "markdown",
   "metadata": {
    "colab_type": "text",
    "id": "P5eF6tMVpl2D"
   },
   "source": [
    "## Setting up SNORKEL"
   ]
  },
  {
   "cell_type": "markdown",
   "metadata": {
    "colab_type": "text",
    "id": "Xo7W0v7Ppl2E"
   },
   "source": [
    "Load our gold labels:"
   ]
  },
  {
   "cell_type": "code",
   "execution_count": 90,
   "metadata": {
    "colab": {},
    "colab_type": "code",
    "id": "JqY6t_2Qpl2F"
   },
   "outputs": [],
   "source": [
    "gold_dev = dev['label']\n",
    "gold_val = val['label']\n",
    "gold_test = test['label']"
   ]
  },
  {
   "cell_type": "markdown",
   "metadata": {
    "colab_type": "text",
    "id": "xr3pjoRjpl2J"
   },
   "source": [
    "## Labeling Functions:"
   ]
  },
  {
   "cell_type": "code",
   "execution_count": 53,
   "metadata": {
    "colab": {},
    "colab_type": "code",
    "id": "9wS1VXbhpl2K"
   },
   "outputs": [],
   "source": [
    "import random\n",
    "\n",
    "@labeling_function()\n",
    "def LF_baseline(c):\n",
    "    if c.baseline_cause == 1 and c.baseline_treat == -1:\n",
    "        return CAUSE\n",
    "    elif c.baseline_cause == -1 and c.baseline_treat == 1:\n",
    "        return TREAT\n",
    "    elif c.baseline_cause == -1 and c.baseline_treat == -1:\n",
    "        return NO_RELATION\n",
    "    \n",
    "    return 0\n",
    "\n",
    "\n",
    "@labeling_function()\n",
    "def LF_crowd(c):\n",
    "    if isinstance(c.crowd_cause, str):\n",
    "        return ABSTAIN\n",
    "    \n",
    "    if c.crowd_cause >= 0 and c.crowd_treat < 0:\n",
    "        return CAUSE\n",
    "    elif c.crowd_cause < 0 and c.crowd_treat >= 0:\n",
    "        return TREAT\n",
    "    elif c.crowd_cause < 0 and c.crowd_treat < 0:\n",
    "        return NO_RELATION\n",
    "    \n",
    "    return 0\n",
    "\n",
    "\n",
    "\n",
    "@labeling_function()\n",
    "def LF_crowd_rand(c):\n",
    "    rand = np.random.choice([True, False], 1, p=[0.2, 0.8])\n",
    "    \n",
    "    if rand:\n",
    "        return LF_crowd(c)\n",
    "    else:\n",
    "        return ABSTAIN"
   ]
  },
  {
   "cell_type": "markdown",
   "metadata": {
    "colab_type": "text",
    "id": "D44m1uVVpl2O"
   },
   "source": [
    "We check the sentences for the appearance of certain keywords."
   ]
  },
  {
   "cell_type": "code",
   "execution_count": 54,
   "metadata": {
    "colab": {},
    "colab_type": "code",
    "id": "6LVpCRe-pl2O"
   },
   "outputs": [],
   "source": [
    "def keyword_lookup(c, keywords, label):\n",
    "    for kw in keywords:\n",
    "        if re.search(kw, c.sentence, re.IGNORECASE):\n",
    "            return label\n",
    "    return ABSTAIN\n",
    "\n",
    "def make_keyword_lf(keywords, label):\n",
    "    return LabelingFunction(\n",
    "        name=\"keywords_{}\".format(label),\n",
    "        f=keyword_lookup,\n",
    "        resources=dict(keywords=keywords, label=label),\n",
    "    )"
   ]
  },
  {
   "cell_type": "code",
   "execution_count": 55,
   "metadata": {
    "colab": {},
    "colab_type": "code",
    "id": "A6tNoTdgpl2R"
   },
   "outputs": [],
   "source": [
    "pos_cause = ['actuate','affect','after,''agent(s) of','associated with','avoid','because of','begin as',\n",
    "             'breed','causing','cause(d) (by|of)','cause of','causative (agent of)',\n",
    "             'characterized by','compel','complicate','complication(s) of','(condition) characterized by',\n",
    "             'confirmed','consequence(s) of','consistent with','contribute','create',\n",
    "             'decide','decrease','development of','develop(s) in patient(s) with',\n",
    "             'disorder' + 'caused by','due to','determine','effect','effectuate','encourage','evoked by',\n",
    "             'facilitate','finding in patients presenting with','following','from','high risk of','impel',\n",
    "             'impose','increase','indication of','is common (with|in)','produce','induce','influence',\n",
    "             'infection from','initiate','inspire','instigate','lead','lead(ing|s) to','make',\n",
    "             'manifest(s) as','motivate','generate','occurs (by|in)','patient(s) (with|has)',\n",
    "             'precipitate','(patient) present(s|ed) (with)','present in patients with',\n",
    "             'progress to','promote','prompt','propel','provide','provoke','reduce',\n",
    "             'recognizable by','regulate','result(ing) in','restricted by','risk factor(s) for',\n",
    "             'result(s) from','set','side effect(s) of','symptom(s) (of|in)',\n",
    "             'shape','stimulate','trigger']\n",
    "\n",
    "neg = ['not (be|in)', '(is|was|does|did) not', 'absence (of)', 'exclude', 'controversial']\n",
    "\n",
    "pos_treat = ['treatment of', 'for the prevention of', 'prevent(ing)', 'treated with',\n",
    "             'prophylaxis', 'protection against', 'protective effect', 'use of',\n",
    "             'associated with (reduction)', 'treatment of', 'significantly reduced', 'reduce(d)',\n",
    "             'to treat', 'treat', 'increasing doses', 'related to', 'decrease', 'treatment with',\n",
    "             'role of', 'reduce risk of', 'reduced', 'administration', 'prescribed', 'therapy with',\n",
    "             'immunize', 'efficacy (of)', 'prescribed', 'relief of', 'intake of', 'use of',\n",
    "             'patients receiving', 'treats']\n",
    "\n",
    "LF_cause_keywords = make_keyword_lf(pos_cause, CAUSE)\n",
    "LF_treat_keywords = make_keyword_lf(pos_treat, TREAT)\n",
    "LF_negative_keywords = make_keyword_lf(neg, NO_RELATION)"
   ]
  },
  {
   "cell_type": "markdown",
   "metadata": {
    "colab_type": "text",
    "id": "NupDD4xPpl2S"
   },
   "source": [
    "Furthermore we search for more complex regular expressions."
   ]
  },
  {
   "cell_type": "code",
   "execution_count": 56,
   "metadata": {
    "colab": {},
    "colab_type": "code",
    "id": "fY0Pn4ehpl2T"
   },
   "outputs": [],
   "source": [
    "# REGEX helpers\n",
    "def rule_regex_search_btw_AB(c, pattern, label):\n",
    "    term1 = re.escape(c.term1)\n",
    "    term2 = re.escape(c.term2)\n",
    "    return label if re.search(re.escape(term1) + pattern + re.escape(term2), c.sentence, flags=re.I) else ABSTAIN\n",
    "\n",
    "\n",
    "def rule_regex_search_btw_BA(c, pattern, label):\n",
    "    term1 = re.escape(c.term1)\n",
    "    term2 = re.escape(c.term2)\n",
    "    return label if re.search(re.escape(term2) + pattern + re.escape(term1), c.sentence, flags=re.I) else ABSTAIN\n",
    "\n",
    "\n",
    "def rule_regex_search_before_A(c, pattern, label):\n",
    "    term1 = re.escape(c.term1)\n",
    "    term2 = re.escape(c.term2)\n",
    "    return label if re.search(pattern + re.escape(term1) + '.*' + re.escape(term2), c.sentence, flags=re.I) else ABSTAIN\n",
    "\n",
    "\n",
    "def rule_regex_search_before_B(c, pattern, label):\n",
    "    term1 = re.escape(c.term1)\n",
    "    term2 = re.escape(c.term2)\n",
    "    return label if re.search(pattern + re.escape(term2) + '.*' + re.escape(term1), c.sentence, flags=re.I) else ABSTAIN\n"
   ]
  },
  {
   "cell_type": "code",
   "execution_count": 25,
   "metadata": {
    "colab": {},
    "colab_type": "code",
    "id": "qK4nLPeapl2V"
   },
   "outputs": [],
   "source": [
    "def ltp(x):\n",
    "    return '(' + '|'.join(x) + ')'\n",
    "    \n",
    "causal_past = ['induced', 'caused', 'due', 'evoked', 'characterized by']\n",
    "@labeling_function()\n",
    "def LF_b_induced_by_a(c):\n",
    "    return rule_regex_search_btw_BA(c, '.{0,50}' + ltp(causal_past) + '.{0,9}(by|to).{0,50}', CAUSE)\n",
    "\n",
    "@labeling_function()\n",
    "def LF_b_induced_by_a_tight(c):\n",
    "    return rule_regex_search_btw_BA(c, '.{0,50}' + ltp(causal_past) + ' (by|to) ', CAUSE)   \n",
    "\n",
    "causal = ['cause[s|d]?', 'induce[s|d]?', 'associated with']\n",
    "@labeling_function()\n",
    "def LF_a_cause_b(c):\n",
    "    return CAUSE if (\n",
    "        re.search(re.escape(c.term1) + '.{0,50} ' + ltp(causal) + '.{0,50}' + re.escape(c.term2), c.sentence, re.I)\n",
    "        and not re.search(re.escape(c.term1) + '.{0,50}(not|no).{0,20}' + ltp(causal) + '.{0,50}' + re.escape(c.term2), c.sentence, re.I)\n",
    "    ) else ABSTAIN\n",
    "\n",
    "treat = ['treat', 'effective', 'prevent', 'resistant', 'slow', 'promise', 'therap', 'decrease', 'relief']\n",
    "\n",
    "@labeling_function()\n",
    "def LF_b_treat_a(c):\n",
    "    return rule_regex_search_btw_BA(c, '.{0,50}' + ltp(treat) + '.{0,50}', TREAT)\n",
    "\n",
    "@labeling_function()\n",
    "def LF_a_treat_b(c):\n",
    "    return rule_regex_search_btw_AB(c, '.{0,50}' + ltp(treat) + '.{0,50}', TREAT)\n",
    "\n",
    "@labeling_function()\n",
    "def LF_treat_b(c):\n",
    "    return rule_regex_search_before_B(c, ltp(treat) + '.{0,50}', TREAT)\n",
    "\n",
    "@labeling_function()\n",
    "def LF_a_treat_b_wide(c):\n",
    "    return rule_regex_search_btw_AB(c, '.{0,200}' + ltp(treat) + '.{0,200}', TREAT)\n",
    "\n",
    "@labeling_function()\n",
    "def LF_improve_before_disease(c):\n",
    "    return rule_regex_search_before_B(c, 'improv.*', TREAT)\n",
    "\n",
    "pat_terms = ['in a patient with ', 'in patients with']\n",
    "@labeling_function()\n",
    "def LF_in_patient_with(c):\n",
    "    return CAUSE if re.search(ltp(pat_terms) + re.escape(c.term2), c.sentence, flags=re.I) else ABSTAIN\n",
    "\n",
    "uncertain = ['combin', 'possible', 'unlikely']\n",
    "@labeling_function()\n",
    "def LF_uncertain(c):\n",
    "    return rule_regex_search_before_A(c, ltp(uncertain) + '.*', NO_RELATION)\n",
    "\n",
    "@labeling_function()\n",
    "def LF_induced_other(c):\n",
    "    return NO_RELATION if re.search(re.escape(c.term1) + '.{20,1000}-induced ' + re.escape(c.term2), c.sentence, flags=re.I) else ABSTAIN\n",
    "\n",
    "@labeling_function()\n",
    "def LF_far_a_b(c):\n",
    "    return rule_regex_search_btw_AB(c, '.{100,5000}', NO_RELATION)\n",
    "\n",
    "@labeling_function()\n",
    "def LF_far_b_a(c):\n",
    "    return rule_regex_search_btw_BA(c, '.{100,5000}', NO_RELATION)\n",
    "\n",
    "@labeling_function()\n",
    "def LF_risk_b(c):\n",
    "    return rule_regex_search_before_B(c, 'risk of ', NO_RELATION)\n",
    "\n",
    "@labeling_function()\n",
    "def LF_develop_b_following_a(c):\n",
    "    return CAUSE if re.search(r'develop.{0,25}' + re.escape(c.term2) + '.{0,25}following.{0,25}' + re.escape(c.term1), c.sentence, flags=re.I) else ABSTAIN\n",
    "\n",
    "procedure, following = ['inject', 'administrat'], ['following']\n",
    "\n",
    "@labeling_function()\n",
    "def LF_b_following_a(c):\n",
    "    return TREAT if re.search(re.escape(c.term2) + '.{0,50}' + ltp(following) + '.{0,20}' + re.escape(c.term1) + '.{0,50}' + ltp(procedure), c.sentence, flags=re.I) else ABSTAIN\n",
    "\n",
    "@labeling_function()\n",
    "def LF_measure(c):\n",
    "    return NO_RELATION if re.search('measur.{0,75}' + re.escape(c.term1), c.sentence, flags=re.I) else ABSTAIN\n",
    "\n",
    "@labeling_function()\n",
    "def LF_level(c):\n",
    "    return NO_RELATION if re.search(re.escape(c.term1) + '.{0,25} level', c.sentence, flags=re.I) else ABSTAIN\n",
    "\n",
    "@labeling_function()\n",
    "def LF_neg_b(c):\n",
    "    return NO_RELATION if re.search('(none|not|no) .{0,25}' + re.escape(c.term2), c.sentence, flags=re.I) else ABSTAIN\n",
    "\n",
    "WEAK_PHRASES = ['none', 'although', 'was carried out', 'was conducted',\n",
    "                'seems', 'suggests', 'risk', 'implicated',\n",
    "               'the aim', 'to (investigate|assess|study)']\n",
    "\n",
    "WEAK_RGX = r'|'.join(WEAK_PHRASES)\n",
    "\n",
    "@labeling_function()\n",
    "def LF_weak_assertions(c):\n",
    "    return NO_RELATION if re.search(WEAK_RGX, c.sentence, flags=re.I) else ABSTAIN\n"
   ]
  },
  {
   "cell_type": "markdown",
   "metadata": {
    "colab_type": "text",
    "id": "c-8-UoVbpl2X"
   },
   "source": [
    "### Applying LFs to Dev and Train set\n",
    "\n",
    "We first apply the LFs to our datasets (i.e. label the samples) and look at their statistics. For the development set we supply gold labels in order to see how well our functions perform compared to the expert labels. These results can then be used to iterate on the functions."
   ]
  },
  {
   "cell_type": "code",
   "execution_count": 91,
   "metadata": {
    "colab": {
     "base_uri": "https://localhost:8080/",
     "height": 70
    },
    "colab_type": "code",
    "id": "afq3s1Hxpl2Y",
    "outputId": "230c9c90-3c65-492a-f20c-746add7efdcb",
    "scrolled": true
   },
   "outputs": [
    {
     "name": "stderr",
     "output_type": "stream",
     "text": [
      "100%|██████████| 3363/3363 [00:14<00:00, 233.77it/s]\n",
      "100%|██████████| 173/173 [00:00<00:00, 221.98it/s]\n",
      "100%|██████████| 323/323 [00:01<00:00, 227.06it/s]\n"
     ]
    }
   ],
   "source": [
    "'''\n",
    "LFs_regex = [LF_cause_keywords,\n",
    "             LF_treat_keywords, \n",
    "             LF_negative_keywords, \n",
    "             #LF_b_induced_by_a, \n",
    "             #LF_b_induced_by_a_tight,\n",
    "             LF_b_treat_a, \n",
    "             LF_a_treat_b, \n",
    "             LF_treat_b, \n",
    "             LF_a_treat_b_wide, \n",
    "             #LF_improve_before_disease, \n",
    "             #LF_in_patient_with, \n",
    "             LF_uncertain, \n",
    "             #LF_induced_other, \n",
    "             #LF_far_a_b, \n",
    "             LF_far_b_a, \n",
    "             #LF_risk_b, \n",
    "             #LF_develop_b_following_a, \n",
    "             #LF_b_following_a, \n",
    "             LF_measure, \n",
    "             #LF_level, \n",
    "             LF_neg_b, \n",
    "             #LF_weak_assertions\n",
    "            ]\n",
    "'''\n",
    "\n",
    "LFs_regex = [LF_cause_keywords,\n",
    "             LF_treat_keywords, \n",
    "             LF_negative_keywords, \n",
    "             #LF_b_induced_by_a, \n",
    "             #LF_b_induced_by_a_tight,\n",
    "             LF_b_treat_a, \n",
    "             LF_a_treat_b, \n",
    "             LF_treat_b, \n",
    "             LF_a_treat_b_wide, \n",
    "             #LF_improve_before_disease, \n",
    "             #LF_in_patient_with, \n",
    "             LF_uncertain, \n",
    "             #LF_induced_other, \n",
    "             LF_far_a_b, \n",
    "             #LF_far_b_a, \n",
    "             #LF_risk_b, \n",
    "             #LF_develop_b_following_a, \n",
    "             #LF_b_following_a, \n",
    "             LF_measure, \n",
    "             #LF_level, \n",
    "             LF_neg_b, \n",
    "             #LF_weak_assertions,\n",
    "             #LF_baseline,\n",
    "             #LF_crowd,\n",
    "             #LF_crowd_rand\n",
    "            ]\n",
    "LFs = LFs_regex\n",
    "\n",
    "applier = PandasLFApplier(lfs=LFs)\n",
    "\n",
    "L_train = applier.apply(df=train)\n",
    "L_dev = applier.apply(df=dev)\n",
    "L_valid = applier.apply(df=val)"
   ]
  },
  {
   "cell_type": "code",
   "execution_count": 32,
   "metadata": {
    "colab": {
     "base_uri": "https://localhost:8080/",
     "height": 316
    },
    "colab_type": "code",
    "id": "ChofyG4Jpl2Z",
    "outputId": "4afd7ab2-b850-4553-8240-81453d853105"
   },
   "outputs": [
    {
     "data": {
      "text/html": [
       "<div>\n",
       "<style scoped>\n",
       "    .dataframe tbody tr th:only-of-type {\n",
       "        vertical-align: middle;\n",
       "    }\n",
       "\n",
       "    .dataframe tbody tr th {\n",
       "        vertical-align: top;\n",
       "    }\n",
       "\n",
       "    .dataframe thead th {\n",
       "        text-align: right;\n",
       "    }\n",
       "</style>\n",
       "<table border=\"1\" class=\"dataframe\">\n",
       "  <thead>\n",
       "    <tr style=\"text-align: right;\">\n",
       "      <th></th>\n",
       "      <th>j</th>\n",
       "      <th>Polarity</th>\n",
       "      <th>Coverage</th>\n",
       "      <th>Overlaps</th>\n",
       "      <th>Conflicts</th>\n",
       "      <th>Correct</th>\n",
       "      <th>Incorrect</th>\n",
       "      <th>Emp. Acc.</th>\n",
       "    </tr>\n",
       "  </thead>\n",
       "  <tbody>\n",
       "    <tr>\n",
       "      <th>keywords_1</th>\n",
       "      <td>0</td>\n",
       "      <td>[1]</td>\n",
       "      <td>0.520231</td>\n",
       "      <td>0.520231</td>\n",
       "      <td>0.381503</td>\n",
       "      <td>30</td>\n",
       "      <td>60</td>\n",
       "      <td>0.333333</td>\n",
       "    </tr>\n",
       "    <tr>\n",
       "      <th>keywords_2</th>\n",
       "      <td>1</td>\n",
       "      <td>[2]</td>\n",
       "      <td>0.427746</td>\n",
       "      <td>0.427746</td>\n",
       "      <td>0.242775</td>\n",
       "      <td>55</td>\n",
       "      <td>19</td>\n",
       "      <td>0.743243</td>\n",
       "    </tr>\n",
       "    <tr>\n",
       "      <th>keywords_0</th>\n",
       "      <td>2</td>\n",
       "      <td>[0]</td>\n",
       "      <td>0.046243</td>\n",
       "      <td>0.046243</td>\n",
       "      <td>0.046243</td>\n",
       "      <td>3</td>\n",
       "      <td>5</td>\n",
       "      <td>0.375000</td>\n",
       "    </tr>\n",
       "    <tr>\n",
       "      <th>LF_b_treat_a</th>\n",
       "      <td>3</td>\n",
       "      <td>[2]</td>\n",
       "      <td>0.028902</td>\n",
       "      <td>0.028902</td>\n",
       "      <td>0.017341</td>\n",
       "      <td>4</td>\n",
       "      <td>1</td>\n",
       "      <td>0.800000</td>\n",
       "    </tr>\n",
       "    <tr>\n",
       "      <th>LF_a_treat_b</th>\n",
       "      <td>4</td>\n",
       "      <td>[2]</td>\n",
       "      <td>0.023121</td>\n",
       "      <td>0.023121</td>\n",
       "      <td>0.011561</td>\n",
       "      <td>4</td>\n",
       "      <td>0</td>\n",
       "      <td>1.000000</td>\n",
       "    </tr>\n",
       "    <tr>\n",
       "      <th>LF_treat_b</th>\n",
       "      <td>5</td>\n",
       "      <td>[2]</td>\n",
       "      <td>0.028902</td>\n",
       "      <td>0.028902</td>\n",
       "      <td>0.017341</td>\n",
       "      <td>4</td>\n",
       "      <td>1</td>\n",
       "      <td>0.800000</td>\n",
       "    </tr>\n",
       "    <tr>\n",
       "      <th>LF_a_treat_b_wide</th>\n",
       "      <td>6</td>\n",
       "      <td>[2]</td>\n",
       "      <td>0.023121</td>\n",
       "      <td>0.023121</td>\n",
       "      <td>0.011561</td>\n",
       "      <td>4</td>\n",
       "      <td>0</td>\n",
       "      <td>1.000000</td>\n",
       "    </tr>\n",
       "    <tr>\n",
       "      <th>LF_uncertain</th>\n",
       "      <td>7</td>\n",
       "      <td>[]</td>\n",
       "      <td>0.000000</td>\n",
       "      <td>0.000000</td>\n",
       "      <td>0.000000</td>\n",
       "      <td>0</td>\n",
       "      <td>0</td>\n",
       "      <td>0.000000</td>\n",
       "    </tr>\n",
       "    <tr>\n",
       "      <th>LF_far_a_b</th>\n",
       "      <td>8</td>\n",
       "      <td>[0]</td>\n",
       "      <td>0.005780</td>\n",
       "      <td>0.005780</td>\n",
       "      <td>0.005780</td>\n",
       "      <td>0</td>\n",
       "      <td>1</td>\n",
       "      <td>0.000000</td>\n",
       "    </tr>\n",
       "    <tr>\n",
       "      <th>LF_measure</th>\n",
       "      <td>9</td>\n",
       "      <td>[]</td>\n",
       "      <td>0.000000</td>\n",
       "      <td>0.000000</td>\n",
       "      <td>0.000000</td>\n",
       "      <td>0</td>\n",
       "      <td>0</td>\n",
       "      <td>0.000000</td>\n",
       "    </tr>\n",
       "    <tr>\n",
       "      <th>LF_neg_b</th>\n",
       "      <td>10</td>\n",
       "      <td>[0]</td>\n",
       "      <td>0.005780</td>\n",
       "      <td>0.005780</td>\n",
       "      <td>0.005780</td>\n",
       "      <td>0</td>\n",
       "      <td>1</td>\n",
       "      <td>0.000000</td>\n",
       "    </tr>\n",
       "    <tr>\n",
       "      <th>LF_crowd</th>\n",
       "      <td>11</td>\n",
       "      <td>[0, 1, 2]</td>\n",
       "      <td>1.000000</td>\n",
       "      <td>0.751445</td>\n",
       "      <td>0.427746</td>\n",
       "      <td>125</td>\n",
       "      <td>5</td>\n",
       "      <td>0.763006</td>\n",
       "    </tr>\n",
       "  </tbody>\n",
       "</table>\n",
       "</div>"
      ],
      "text/plain": [
       "                    j   Polarity  Coverage  Overlaps  Conflicts  Correct  \\\n",
       "keywords_1          0        [1]  0.520231  0.520231   0.381503       30   \n",
       "keywords_2          1        [2]  0.427746  0.427746   0.242775       55   \n",
       "keywords_0          2        [0]  0.046243  0.046243   0.046243        3   \n",
       "LF_b_treat_a        3        [2]  0.028902  0.028902   0.017341        4   \n",
       "LF_a_treat_b        4        [2]  0.023121  0.023121   0.011561        4   \n",
       "LF_treat_b          5        [2]  0.028902  0.028902   0.017341        4   \n",
       "LF_a_treat_b_wide   6        [2]  0.023121  0.023121   0.011561        4   \n",
       "LF_uncertain        7         []  0.000000  0.000000   0.000000        0   \n",
       "LF_far_a_b          8        [0]  0.005780  0.005780   0.005780        0   \n",
       "LF_measure          9         []  0.000000  0.000000   0.000000        0   \n",
       "LF_neg_b           10        [0]  0.005780  0.005780   0.005780        0   \n",
       "LF_crowd           11  [0, 1, 2]  1.000000  0.751445   0.427746      125   \n",
       "\n",
       "                   Incorrect  Emp. Acc.  \n",
       "keywords_1                60   0.333333  \n",
       "keywords_2                19   0.743243  \n",
       "keywords_0                 5   0.375000  \n",
       "LF_b_treat_a               1   0.800000  \n",
       "LF_a_treat_b               0   1.000000  \n",
       "LF_treat_b                 1   0.800000  \n",
       "LF_a_treat_b_wide          0   1.000000  \n",
       "LF_uncertain               0   0.000000  \n",
       "LF_far_a_b                 1   0.000000  \n",
       "LF_measure                 0   0.000000  \n",
       "LF_neg_b                   1   0.000000  \n",
       "LF_crowd                   5   0.763006  "
      ]
     },
     "execution_count": 32,
     "metadata": {},
     "output_type": "execute_result"
    }
   ],
   "source": [
    "LFAnalysis(L=L_dev, lfs=LFs).lf_summary(Y=gold_dev)"
   ]
  },
  {
   "cell_type": "code",
   "execution_count": 33,
   "metadata": {
    "colab": {
     "base_uri": "https://localhost:8080/",
     "height": 437
    },
    "colab_type": "code",
    "id": "TJsnGcmqpl2b",
    "outputId": "60a12029-19eb-4988-9c26-1686c3c46143"
   },
   "outputs": [
    {
     "data": {
      "text/html": [
       "<div>\n",
       "<style scoped>\n",
       "    .dataframe tbody tr th:only-of-type {\n",
       "        vertical-align: middle;\n",
       "    }\n",
       "\n",
       "    .dataframe tbody tr th {\n",
       "        vertical-align: top;\n",
       "    }\n",
       "\n",
       "    .dataframe thead th {\n",
       "        text-align: right;\n",
       "    }\n",
       "</style>\n",
       "<table border=\"1\" class=\"dataframe\">\n",
       "  <thead>\n",
       "    <tr style=\"text-align: right;\">\n",
       "      <th></th>\n",
       "      <th>j</th>\n",
       "      <th>Polarity</th>\n",
       "      <th>Coverage</th>\n",
       "      <th>Overlaps</th>\n",
       "      <th>Conflicts</th>\n",
       "    </tr>\n",
       "  </thead>\n",
       "  <tbody>\n",
       "    <tr>\n",
       "      <th>keywords_1</th>\n",
       "      <td>0</td>\n",
       "      <td>[1]</td>\n",
       "      <td>0.520071</td>\n",
       "      <td>0.520071</td>\n",
       "      <td>0.363961</td>\n",
       "    </tr>\n",
       "    <tr>\n",
       "      <th>keywords_2</th>\n",
       "      <td>1</td>\n",
       "      <td>[2]</td>\n",
       "      <td>0.270294</td>\n",
       "      <td>0.270294</td>\n",
       "      <td>0.181980</td>\n",
       "    </tr>\n",
       "    <tr>\n",
       "      <th>keywords_0</th>\n",
       "      <td>2</td>\n",
       "      <td>[0]</td>\n",
       "      <td>0.046090</td>\n",
       "      <td>0.046090</td>\n",
       "      <td>0.037764</td>\n",
       "    </tr>\n",
       "    <tr>\n",
       "      <th>LF_b_treat_a</th>\n",
       "      <td>3</td>\n",
       "      <td>[2]</td>\n",
       "      <td>0.021112</td>\n",
       "      <td>0.021112</td>\n",
       "      <td>0.011002</td>\n",
       "    </tr>\n",
       "    <tr>\n",
       "      <th>LF_a_treat_b</th>\n",
       "      <td>4</td>\n",
       "      <td>[2]</td>\n",
       "      <td>0.007434</td>\n",
       "      <td>0.007434</td>\n",
       "      <td>0.004758</td>\n",
       "    </tr>\n",
       "    <tr>\n",
       "      <th>LF_treat_b</th>\n",
       "      <td>5</td>\n",
       "      <td>[2]</td>\n",
       "      <td>0.008921</td>\n",
       "      <td>0.008921</td>\n",
       "      <td>0.007434</td>\n",
       "    </tr>\n",
       "    <tr>\n",
       "      <th>LF_a_treat_b_wide</th>\n",
       "      <td>6</td>\n",
       "      <td>[2]</td>\n",
       "      <td>0.009515</td>\n",
       "      <td>0.009515</td>\n",
       "      <td>0.006542</td>\n",
       "    </tr>\n",
       "    <tr>\n",
       "      <th>LF_uncertain</th>\n",
       "      <td>7</td>\n",
       "      <td>[0]</td>\n",
       "      <td>0.001189</td>\n",
       "      <td>0.001189</td>\n",
       "      <td>0.000892</td>\n",
       "    </tr>\n",
       "    <tr>\n",
       "      <th>LF_far_a_b</th>\n",
       "      <td>8</td>\n",
       "      <td>[0]</td>\n",
       "      <td>0.011002</td>\n",
       "      <td>0.011002</td>\n",
       "      <td>0.010110</td>\n",
       "    </tr>\n",
       "    <tr>\n",
       "      <th>LF_measure</th>\n",
       "      <td>9</td>\n",
       "      <td>[0]</td>\n",
       "      <td>0.002379</td>\n",
       "      <td>0.002379</td>\n",
       "      <td>0.002081</td>\n",
       "    </tr>\n",
       "    <tr>\n",
       "      <th>LF_neg_b</th>\n",
       "      <td>10</td>\n",
       "      <td>[0]</td>\n",
       "      <td>0.011002</td>\n",
       "      <td>0.011002</td>\n",
       "      <td>0.009515</td>\n",
       "    </tr>\n",
       "    <tr>\n",
       "      <th>LF_crowd</th>\n",
       "      <td>11</td>\n",
       "      <td>[0, 1, 2]</td>\n",
       "      <td>1.000000</td>\n",
       "      <td>0.664288</td>\n",
       "      <td>0.405590</td>\n",
       "    </tr>\n",
       "  </tbody>\n",
       "</table>\n",
       "</div>"
      ],
      "text/plain": [
       "                    j   Polarity  Coverage  Overlaps  Conflicts\n",
       "keywords_1          0        [1]  0.520071  0.520071   0.363961\n",
       "keywords_2          1        [2]  0.270294  0.270294   0.181980\n",
       "keywords_0          2        [0]  0.046090  0.046090   0.037764\n",
       "LF_b_treat_a        3        [2]  0.021112  0.021112   0.011002\n",
       "LF_a_treat_b        4        [2]  0.007434  0.007434   0.004758\n",
       "LF_treat_b          5        [2]  0.008921  0.008921   0.007434\n",
       "LF_a_treat_b_wide   6        [2]  0.009515  0.009515   0.006542\n",
       "LF_uncertain        7        [0]  0.001189  0.001189   0.000892\n",
       "LF_far_a_b          8        [0]  0.011002  0.011002   0.010110\n",
       "LF_measure          9        [0]  0.002379  0.002379   0.002081\n",
       "LF_neg_b           10        [0]  0.011002  0.011002   0.009515\n",
       "LF_crowd           11  [0, 1, 2]  1.000000  0.664288   0.405590"
      ]
     },
     "execution_count": 33,
     "metadata": {},
     "output_type": "execute_result"
    }
   ],
   "source": [
    "LFAnalysis(L=L_train, lfs=LFs).lf_summary()"
   ]
  },
  {
   "cell_type": "markdown",
   "metadata": {
    "colab_type": "text",
    "id": "fCH2q5Q3pl2e"
   },
   "source": [
    "## LF Analysis\n",
    "\n",
    "Test our LFs against the dev set to see how well they perform before training the model."
   ]
  },
  {
   "cell_type": "code",
   "execution_count": 34,
   "metadata": {
    "colab": {
     "base_uri": "https://localhost:8080/",
     "height": 473
    },
    "colab_type": "code",
    "id": "badVcunUpl2e",
    "outputId": "d7018a60-863f-46a8-dbd0-cb5a5009fb5e",
    "scrolled": true
   },
   "outputs": [
    {
     "name": "stderr",
     "output_type": "stream",
     "text": [
      "/Users/Emanuel/anaconda3/envs/snorkel-new/lib/python3.6/site-packages/ipykernel_launcher.py:14: RuntimeWarning: invalid value encountered in long_scalars\n",
      "  \n"
     ]
    },
    {
     "data": {
      "text/html": [
       "<div>\n",
       "<style scoped>\n",
       "    .dataframe tbody tr th:only-of-type {\n",
       "        vertical-align: middle;\n",
       "    }\n",
       "\n",
       "    .dataframe tbody tr th {\n",
       "        vertical-align: top;\n",
       "    }\n",
       "\n",
       "    .dataframe thead th {\n",
       "        text-align: right;\n",
       "    }\n",
       "</style>\n",
       "<table border=\"1\" class=\"dataframe\">\n",
       "  <thead>\n",
       "    <tr style=\"text-align: right;\">\n",
       "      <th></th>\n",
       "      <th>Acc</th>\n",
       "      <th>Abstain</th>\n",
       "      <th>Not abstaining</th>\n",
       "      <th>Acc. on pred</th>\n",
       "    </tr>\n",
       "  </thead>\n",
       "  <tbody>\n",
       "    <tr>\n",
       "      <th>LF_crowd</th>\n",
       "      <td>0.763006</td>\n",
       "      <td>0.000000</td>\n",
       "      <td>1.000000</td>\n",
       "      <td>0.763006</td>\n",
       "    </tr>\n",
       "    <tr>\n",
       "      <th>keywords_1</th>\n",
       "      <td>0.173410</td>\n",
       "      <td>0.479769</td>\n",
       "      <td>0.520231</td>\n",
       "      <td>0.333333</td>\n",
       "    </tr>\n",
       "    <tr>\n",
       "      <th>keywords_2</th>\n",
       "      <td>0.317919</td>\n",
       "      <td>0.572254</td>\n",
       "      <td>0.427746</td>\n",
       "      <td>0.743243</td>\n",
       "    </tr>\n",
       "    <tr>\n",
       "      <th>keywords_0</th>\n",
       "      <td>0.017341</td>\n",
       "      <td>0.953757</td>\n",
       "      <td>0.046243</td>\n",
       "      <td>0.375000</td>\n",
       "    </tr>\n",
       "    <tr>\n",
       "      <th>LF_b_treat_a</th>\n",
       "      <td>0.023121</td>\n",
       "      <td>0.971098</td>\n",
       "      <td>0.028902</td>\n",
       "      <td>0.800000</td>\n",
       "    </tr>\n",
       "    <tr>\n",
       "      <th>LF_treat_b</th>\n",
       "      <td>0.023121</td>\n",
       "      <td>0.971098</td>\n",
       "      <td>0.028902</td>\n",
       "      <td>0.800000</td>\n",
       "    </tr>\n",
       "    <tr>\n",
       "      <th>LF_a_treat_b</th>\n",
       "      <td>0.023121</td>\n",
       "      <td>0.976879</td>\n",
       "      <td>0.023121</td>\n",
       "      <td>1.000000</td>\n",
       "    </tr>\n",
       "    <tr>\n",
       "      <th>LF_a_treat_b_wide</th>\n",
       "      <td>0.023121</td>\n",
       "      <td>0.976879</td>\n",
       "      <td>0.023121</td>\n",
       "      <td>1.000000</td>\n",
       "    </tr>\n",
       "    <tr>\n",
       "      <th>LF_far_a_b</th>\n",
       "      <td>0.000000</td>\n",
       "      <td>0.994220</td>\n",
       "      <td>0.005780</td>\n",
       "      <td>0.000000</td>\n",
       "    </tr>\n",
       "    <tr>\n",
       "      <th>LF_neg_b</th>\n",
       "      <td>0.000000</td>\n",
       "      <td>0.994220</td>\n",
       "      <td>0.005780</td>\n",
       "      <td>0.000000</td>\n",
       "    </tr>\n",
       "    <tr>\n",
       "      <th>LF_uncertain</th>\n",
       "      <td>0.000000</td>\n",
       "      <td>1.000000</td>\n",
       "      <td>0.000000</td>\n",
       "      <td>NaN</td>\n",
       "    </tr>\n",
       "    <tr>\n",
       "      <th>LF_measure</th>\n",
       "      <td>0.000000</td>\n",
       "      <td>1.000000</td>\n",
       "      <td>0.000000</td>\n",
       "      <td>NaN</td>\n",
       "    </tr>\n",
       "  </tbody>\n",
       "</table>\n",
       "</div>"
      ],
      "text/plain": [
       "                        Acc   Abstain  Not abstaining  Acc. on pred\n",
       "LF_crowd           0.763006  0.000000        1.000000      0.763006\n",
       "keywords_1         0.173410  0.479769        0.520231      0.333333\n",
       "keywords_2         0.317919  0.572254        0.427746      0.743243\n",
       "keywords_0         0.017341  0.953757        0.046243      0.375000\n",
       "LF_b_treat_a       0.023121  0.971098        0.028902      0.800000\n",
       "LF_treat_b         0.023121  0.971098        0.028902      0.800000\n",
       "LF_a_treat_b       0.023121  0.976879        0.023121      1.000000\n",
       "LF_a_treat_b_wide  0.023121  0.976879        0.023121      1.000000\n",
       "LF_far_a_b         0.000000  0.994220        0.005780      0.000000\n",
       "LF_neg_b           0.000000  0.994220        0.005780      0.000000\n",
       "LF_uncertain       0.000000  1.000000        0.000000           NaN\n",
       "LF_measure         0.000000  1.000000        0.000000           NaN"
      ]
     },
     "execution_count": 34,
     "metadata": {},
     "output_type": "execute_result"
    }
   ],
   "source": [
    "acc_arr = []\n",
    "abstain_arr = []\n",
    "not_abstain_arr = []\n",
    "acc_on_pred_arr = []\n",
    "df_index = []\n",
    "for i, lf in enumerate(LFs):\n",
    "    tp = np.sum(L_dev[:, i] == gold_dev)\n",
    "    acc = tp / len(gold_dev)\n",
    "    acc_arr.append(acc)\n",
    "    abstain = np.sum(np.ravel(L_dev[:, i]) == ABSTAIN)\n",
    "    not_abstain = (len(gold_dev) - abstain)/len(gold_dev)\n",
    "    abstain_arr.append(abstain/len(gold_dev))\n",
    "    not_abstain_arr.append(not_abstain)\n",
    "    acc_on_pred = tp / (len(gold_dev) - abstain)\n",
    "    acc_on_pred_arr.append(acc_on_pred)\n",
    "    df_index.append(lf.name)\n",
    "    \n",
    "df = pd.DataFrame([acc_arr, abstain_arr, not_abstain_arr, acc_on_pred_arr], columns=df_index, index=['Acc', 'Abstain', 'Not abstaining', 'Acc. on pred'])\n",
    "stats_1 = df.transpose()\n",
    "stats_1 = stats_1.sort_values('Not abstaining', ascending=False)\n",
    "stats_1 = stats_1.iloc[:15, :]\n",
    "stats_1"
   ]
  },
  {
   "cell_type": "code",
   "execution_count": 35,
   "metadata": {
    "colab": {
     "base_uri": "https://localhost:8080/",
     "height": 538
    },
    "colab_type": "code",
    "id": "ei-WCKBrpl2h",
    "outputId": "3d842b83-f966-4379-b4b6-ff3cf42b6e76"
   },
   "outputs": [
    {
     "data": {
      "image/png": "[encoded data removed]",
      "text/plain": [
       "<Figure size 864x576 with 1 Axes>"
      ]
     },
     "metadata": {
      "needs_background": "light"
     },
     "output_type": "display_data"
    }
   ],
   "source": [
    "figure(figsize=(12, 8))\n",
    "\n",
    "x_pos = np.arange(len(stats_1))\n",
    "plt.bar(x_pos-0.15, stats_1['Acc. on pred'], width=0.3, align='center', alpha=0.5)\n",
    "plt.bar(x_pos+0.15, stats_1['Not abstaining'], width=0.3, align='center', alpha=0.5)\n",
    "plt.xticks(x_pos-1, stats_1.index, rotation=20, fontsize=12)\n",
    "plt.ylabel('Accuracy on Prediction / Coverage')\n",
    "plt.title('Accuracy on Prediction and Coverage of LFs on Development Set')\n",
    "\n",
    "plt.show()"
   ]
  },
  {
   "cell_type": "markdown",
   "metadata": {
    "colab_type": "text",
    "id": "zePCe4Wkpl2j"
   },
   "source": [
    "## Generative Model"
   ]
  },
  {
   "cell_type": "code",
   "execution_count": 92,
   "metadata": {
    "colab": {
     "base_uri": "https://localhost:8080/",
     "height": 34
    },
    "colab_type": "code",
    "id": "yxp7aeDupl2j",
    "outputId": "79907782-e3a7-4819-d305-f648fb03c44d"
   },
   "outputs": [
    {
     "name": "stdout",
     "output_type": "stream",
     "text": [
      "Majority Vote Accuracy:   52.9%\n"
     ]
    }
   ],
   "source": [
    "majority_model = MajorityLabelVoter(cardinality=4)\n",
    "\n",
    "majority_acc = majority_model.score(L=L_valid, Y=gold_val)[\"accuracy\"]\n",
    "print(f\"{'Majority Vote Accuracy:':<25} {majority_acc * 100:.1f}%\")"
   ]
  },
  {
   "cell_type": "code",
   "execution_count": 93,
   "metadata": {
    "colab": {
     "base_uri": "https://localhost:8080/",
     "height": 34
    },
    "colab_type": "code",
    "id": "S3ddcOarpl2l",
    "outputId": "a83b51f2-6b97-4ea9-de30-947c5fdbd959"
   },
   "outputs": [
    {
     "name": "stdout",
     "output_type": "stream",
     "text": [
      "Label Model Accuracy:     48.9%\n"
     ]
    }
   ],
   "source": [
    "label_model = LabelModel(cardinality=4, verbose=True)\n",
    "label_model.fit(L_train=L_train, n_epochs=1000, lr=0.001, log_freq=100, seed=123)\n",
    "\n",
    "label_model_acc = label_model.score(L=L_valid, Y=gold_val)[\"accuracy\"]\n",
    "print(f\"{'Label Model Accuracy:':<25} {label_model_acc * 100:.1f}%\")"
   ]
  },
  {
   "cell_type": "code",
   "execution_count": 94,
   "metadata": {
    "colab": {},
    "colab_type": "code",
    "id": "AhuB0b06pl2p"
   },
   "outputs": [],
   "source": [
    "train['label'] = label_model.predict(L=L_train, tie_break_policy=\"abstain\")"
   ]
  },
  {
   "cell_type": "markdown",
   "metadata": {
    "colab_type": "text",
    "id": "1P9HGm5ppl2r"
   },
   "source": [
    "# Train the LSTM:"
   ]
  },
  {
   "cell_type": "code",
   "execution_count": 121,
   "metadata": {
    "colab": {
     "base_uri": "https://localhost:8080/",
     "height": 34
    },
    "colab_type": "code",
    "id": "YrVN6W3wpl2r",
    "outputId": "9db6770e-411f-47e7-b970-ab93304ea9b7"
   },
   "outputs": [],
   "source": [
    "from keras.models import Model\n",
    "from keras.layers import LSTM, Activation, Dense, Dropout, Input, Embedding\n",
    "from keras.optimizers import RMSprop\n",
    "from keras.preprocessing.text import Tokenizer\n",
    "from keras.preprocessing import sequence\n",
    "from keras.utils import to_categorical\n",
    "from sklearn.preprocessing import OneHotEncoder\n",
    "from keras.callbacks import ModelCheckpoint\n",
    "from keras.callbacks import EarlyStopping\n",
    "\n",
    "MAX_WORDS = 10000 # vocabulary size\n",
    "MAX_LEN = 150 # max sequence length\n",
    "\n",
    "def preprocess(X_train):    \n",
    "    tok = Tokenizer(num_words=MAX_WORDS)\n",
    "    tok.fit_on_texts(X_train)\n",
    "    sequences = tok.texts_to_sequences(X_train)\n",
    "    sequences_matrix = sequence.pad_sequences(sequences,maxlen=MAX_LEN)\n",
    "    return sequences_matrix\n",
    "\n",
    "def RNN():\n",
    "    inputs = Input(name='inputs',shape=[MAX_LEN])\n",
    "    layer = Embedding(MAX_WORDS,50,input_length=MAX_LEN)(inputs)\n",
    "    layer = LSTM(64)(layer)\n",
    "    layer = Dense(256,name='FC1')(layer)\n",
    "    layer = Activation('relu')(layer)\n",
    "    layer = Dropout(0.25)(layer)\n",
    "    layer = Dense(3,name='out_layer')(layer)\n",
    "    layer = Activation('softmax')(layer)\n",
    "    model = Model(inputs=inputs,outputs=layer)\n",
    "    return model"
   ]
  },
  {
   "cell_type": "code",
   "execution_count": 122,
   "metadata": {
    "colab": {},
    "colab_type": "code",
    "id": "-lkjIB5Ypl2u"
   },
   "outputs": [],
   "source": [
    "probs_train = label_model.predict_proba(L_train)\n",
    "train_filtered, probs_train_filtered = filter_unlabeled_dataframe(\n",
    "    X=train, y=probs_train, L=L_train\n",
    ")"
   ]
  },
  {
   "cell_type": "code",
   "execution_count": 123,
   "metadata": {
    "colab": {},
    "colab_type": "code",
    "id": "se43UPpcpl2w"
   },
   "outputs": [],
   "source": [
    "drop_abstain_idx = train_filtered['label'].loc[train_filtered['label'] == -1].index\n",
    "train_filtered = train_filtered.drop(drop_abstain_idx)"
   ]
  },
  {
   "cell_type": "code",
   "execution_count": 124,
   "metadata": {
    "colab": {
     "base_uri": "https://localhost:8080/",
     "height": 1000
    },
    "colab_type": "code",
    "id": "g4IfFRkGpl20",
    "outputId": "40227429-d080-45c3-b602-12021492a47c"
   },
   "outputs": [
    {
     "name": "stdout",
     "output_type": "stream",
     "text": [
      "_________________________________________________________________\n",
      "Layer (type)                 Output Shape              Param #   \n",
      "=================================================================\n",
      "inputs (InputLayer)          (None, 150)               0         \n",
      "_________________________________________________________________\n",
      "embedding_5 (Embedding)      (None, 150, 50)           500000    \n",
      "_________________________________________________________________\n",
      "lstm_5 (LSTM)                (None, 64)                29440     \n",
      "_________________________________________________________________\n",
      "FC1 (Dense)                  (None, 256)               16640     \n",
      "_________________________________________________________________\n",
      "activation_9 (Activation)    (None, 256)               0         \n",
      "_________________________________________________________________\n",
      "dropout_5 (Dropout)          (None, 256)               0         \n",
      "_________________________________________________________________\n",
      "out_layer (Dense)            (None, 3)                 771       \n",
      "_________________________________________________________________\n",
      "activation_10 (Activation)   (None, 3)                 0         \n",
      "=================================================================\n",
      "Total params: 546,851\n",
      "Trainable params: 546,851\n",
      "Non-trainable params: 0\n",
      "_________________________________________________________________\n",
      "Train on 2442 samples, validate on 323 samples\n",
      "Epoch 1/10\n",
      "2442/2442 [==============================] - 21s 8ms/step - loss: 0.5082 - acc: 0.6884 - val_loss: 0.5832 - val_acc: 0.6656\n",
      "\n",
      "Epoch 00001: val_acc improved from -inf to 0.66563, saving model to weights.best.hdf5\n",
      "Epoch 2/10\n",
      "2442/2442 [==============================] - 22s 9ms/step - loss: 0.4222 - acc: 0.7903 - val_loss: 0.7277 - val_acc: 0.6460\n",
      "\n",
      "Epoch 00002: val_acc did not improve from 0.66563\n"
     ]
    }
   ],
   "source": [
    "model = RNN()\n",
    "model.summary()\n",
    "model.compile(loss='binary_crossentropy',optimizer=RMSprop(),metrics=['accuracy'])\n",
    "\n",
    "enc = OneHotEncoder(handle_unknown='ignore')\n",
    "train_labels = np.array(train_filtered['label']).reshape(len(train_filtered), 1)\n",
    "val_labels = np.array(val['label']).reshape(len(val), 1)\n",
    "test_labels = np.array(test['label']).reshape(len(test), 1)\n",
    "\n",
    "Y_train = enc.fit_transform(train_labels)\n",
    "Y_val = enc.transform(val_labels)\n",
    "Y_test = enc.transform(test_labels)\n",
    "\n",
    "filepath=\"weights.best.hdf5\"\n",
    "checkpoint = ModelCheckpoint(filepath, monitor='val_acc', verbose=1, save_best_only=True, mode='max')\n",
    "early_stopping = EarlyStopping(monitor='val_loss',min_delta=0.0001)\n",
    "callbacks = [checkpoint, early_stopping]\n",
    "\n",
    "model.fit(preprocess(train_filtered['sentence']), Y_train, batch_size=32, epochs=10,\n",
    "          validation_data=(preprocess(val['sentence']), Y_val), callbacks=callbacks)\n",
    "\n",
    "model.load_weights(\"weights.best.hdf5\")\n",
    "model.compile(loss='binary_crossentropy', optimizer=RMSprop(), metrics=['accuracy'])"
   ]
  },
  {
   "cell_type": "code",
   "execution_count": 115,
   "metadata": {
    "colab": {
     "base_uri": "https://localhost:8080/",
     "height": 87
    },
    "colab_type": "code",
    "id": "XI6fNPLipl21",
    "outputId": "2da9dff3-bab7-4c97-bf70-87ae70f9b1df"
   },
   "outputs": [
    {
     "name": "stdout",
     "output_type": "stream",
     "text": [
      "323/323 [==============================] - 1s 2ms/step\n",
      "Validation set\n",
      "  Loss: 0.619\n",
      "  Accuracy: 0.662\n"
     ]
    }
   ],
   "source": [
    "accr = model.evaluate(preprocess(val['sentence']), Y_val)\n",
    "print('Validation set\\n  Loss: {:0.3f}\\n  Accuracy: {:0.3f}'.format(accr[0],accr[1]))"
   ]
  },
  {
   "cell_type": "code",
   "execution_count": 142,
   "metadata": {
    "colab": {
     "base_uri": "https://localhost:8080/",
     "height": 286
    },
    "colab_type": "code",
    "id": "JWLYjhlIpl24",
    "outputId": "c276cb9c-f6ed-48e8-8113-3cb23ad522a6"
   },
   "outputs": [
    {
     "data": {
      "text/plain": [
       "<matplotlib.axes._subplots.AxesSubplot at 0x158c65f28>"
      ]
     },
     "execution_count": 142,
     "metadata": {},
     "output_type": "execute_result"
    },
    {
     "data": {
      "image/png": "[encoded data removed]",
      "text/plain": [
       "<Figure size 432x288 with 2 Axes>"
      ]
     },
     "metadata": {
      "needs_background": "light"
     },
     "output_type": "display_data"
    }
   ],
   "source": [
    "from sklearn.metrics import confusion_matrix\n",
    "import seaborn\n",
    "\n",
    "val_prediction = np.argmax(model.predict(preprocess(val['sentence'])), axis=1)\n",
    "conf_matrix = confusion_matrix(gold_val, val_prediction)\n",
    "#conf_matrix = [[0, 32, 8], [5, 121, 25], [4, 98, 41]] # Crowd\n",
    "#conf_matrix = [[0, 40, 0], [0, 196, 0], [0, 196, 0]] # Regex\n",
    "conf_matrix = [[  1, 13,  21],\n",
    " [  8,  75,  35],\n",
    " [ 10,  31, 116]] # regex old\n",
    "conf_matrix = [[  4,  13,  19],\n",
    " [ 12,  75,  34],\n",
    " [ 11,  33, 109]] # + biotext old\n",
    "conf_matrix = [[ 0, 24, 17],\n",
    " [ 7, 93, 16],\n",
    " [ 9, 68, 76]] # + both old\n",
    "conf_matrix = [[ 5, 31, 14],\n",
    " [ 7, 85, 19],\n",
    " [ 6, 55, 88]] # +ade old\n",
    "#conf_matrix = [[ 0, 7, 33], [ 0, 7, 133], [ 0, 9, 134]] # + BioText\n",
    "#conf_matrix = [[ 0, 32, 8], [ 0, 110, 30], [ 0, 94, 49]] # + ADE\n",
    "#conf_matrix = [[ 0, 21, 19], [ 0, 74, 66], [ 0, 64, 79]] # + both\n",
    "classes = ['Other', 'Cause', 'Treat']\n",
    "conf = pd.DataFrame(conf_matrix, index = classes,\n",
    "                  columns = classes)\n",
    "seaborn.heatmap(conf, annot=True)"
   ]
  },
  {
   "cell_type": "code",
   "execution_count": 35,
   "metadata": {
    "colab": {
     "base_uri": "https://localhost:8080/",
     "height": 87
    },
    "colab_type": "code",
    "id": "hoC6CFKbpl26",
    "outputId": "16bb8efa-2a6c-45d4-88f1-b3495ccfedad"
   },
   "outputs": [
    {
     "name": "stdout",
     "output_type": "stream",
     "text": [
      "125/125 [==============================] - 0s 2ms/step\n",
      "Validation set\n",
      "  Loss: 0.725\n",
      "  Accuracy: 0.611\n"
     ]
    }
   ],
   "source": [
    "accr = model.evaluate(preprocess(test['sentence']), Y_test)\n",
    "print('Validation set\\n  Loss: {:0.3f}\\n  Accuracy: {:0.3f}'.format(accr[0],accr[1]))"
   ]
  },
  {
   "cell_type": "markdown",
   "metadata": {
    "colab_type": "text",
    "id": "s7Da8He6pl28"
   },
   "source": [
    "## Results\n",
    "\n",
    "### Accuracy:\n",
    "\n",
    "1) Only Crowd Labels: 0.680\n",
    "\n",
    "2) Only Baseline: 0.611\n",
    "\n",
    "3) Regex (11 LFs): 0.622\n",
    "\n",
    "4) Basline + Regex: 0.634\n",
    "\n",
    "5) Crowd + Regex:  0.676\n",
    "\n",
    "6) 20% Crowd + Regex: 0.672\n",
    "\n",
    "7) 40% Crowd + Regex: 0.606\n",
    "\n",
    "8) 60% Crowd + Regex: 0.641\n",
    "\n",
    "9) 80% Crowd + Regex: 0.57\n",
    "\n",
    "10) Regex + BioText: 0.677\n",
    "\n",
    "11) Regex + BioText + ADE: 0.632\n",
    "\n",
    "### Confusion Matrix:\n",
    "1) Only Crowd Labels: \n",
    "[[0  32  8]\n",
    " [5  121 25]\n",
    " [4  98  41]]\n",
    " \n",
    "2) Only Baseline: \n",
    "[[17 23 0]\n",
    " [26 121 0]\n",
    " [54 89 0]]\n",
    " \n",
    "3) Regex (11 LFs):\n",
    "[[0  40  0]\n",
    " [0  196  0]\n",
    " [0  196  0]]\n",
    " \n",
    "4) Baseline + Regex:\n",
    "[[ 17  23  0]\n",
    " [ 30 121  0]\n",
    " [ 49 94  0]]\n",
    " \n",
    "5) Crowd + Regex:\n",
    "[[ 9  8  23]\n",
    " [ 15  47  78]\n",
    " [ 19  22  100]]\n",
    "\n",
    "6) 20% Crowd + Regex:\n",
    "[[7  9  24]\n",
    " [24  35 81]\n",
    " [21 18 100]]\n",
    " \n",
    "7) 40% Crowd + Regex: 0.621\n",
    "\n",
    "[[ 0, 39, 1], [ 0, 129, 11], [ 0, 140, 3]]\n",
    "\n",
    "8) 60% Crowd + Regex: 0.633 [[ 1, 35, 4], [ 0, 106, 34], [ 0, 105, 38]]\n",
    "\n",
    "9) 80% Crowd + Regex: 0.658 [[ 1, 23, 16], [ 2, 98, 40], [ 5, 94, 44]]\n",
    "\n",
    "10) Regex + BioText: 0.628 [[ 0, 7, 33], [ 0, 7, 133], [ 0, 9, 134]]\n",
    "\n",
    "11) Regex + ADE: 0.665 [[ 0, 32, 8], [ 0, 110, 30], [ 0, 94, 49]]\n",
    "\n",
    "12) Regex + BioText + ADE: [[ 0, 21, 19], [ 0, 74, 66], [ 0, 64, 79]]"
   ]
  },
  {
   "cell_type": "code",
   "execution_count": 146,
   "metadata": {
    "colab": {
     "base_uri": "https://localhost:8080/",
     "height": 525
    },
    "colab_type": "code",
    "id": "iBM-H2RCpl29",
    "outputId": "d7efcbb3-5755-4981-d012-fa4b5d61d6b9"
   },
   "outputs": [
    {
     "data": {
      "image/png": "[encoded data removed]",
      "text/plain": [
       "<Figure size 864x576 with 1 Axes>"
      ]
     },
     "metadata": {
      "needs_background": "light"
     },
     "output_type": "display_data"
    }
   ],
   "source": [
    "results = {'Only Crowd Labels': 0.645, 'Only Baseline': 0.425, 'RegEx (11 LFs)': 0.625, 'Basline + RegEx': 0.47,\n",
    "            'RegEx + BioText': 0.6, 'RegEx + ADE': 0.57, 'RegEx + BioText + ADE': 0.54}\n",
    "\n",
    "# '20% Crowd + Regex': 0.62, '40% Crowd + Regex': 0.621, '60% Crowd + Regex': 0.633,\n",
    "#          '80% Crowd + Regex': 0.658, \n",
    "#'Crowd + Regex + ADE': 0.639, 'Crowd + Regex + BioText/ADE': 0.631\n",
    "figure(figsize=(12, 8))\n",
    "\n",
    "plt.bar(range(len(results)), list(results.values()), align='center')\n",
    "plt.xticks(range(len(results)), list(results.keys()), rotation=20)\n",
    "\n",
    "plt.ylim(0.4, 0.7)\n",
    "\n",
    "plt.show()"
   ]
  },
  {
   "cell_type": "code",
   "execution_count": 148,
   "metadata": {},
   "outputs": [
    {
     "data": {
      "image/png": "[encoded data removed]",
      "text/plain": [
       "<Figure size 864x576 with 1 Axes>"
      ]
     },
     "metadata": {
      "needs_background": "light"
     },
     "output_type": "display_data"
    }
   ],
   "source": [
    "results = {'20% Crowd + RegEx': 0.512, '40% Crowd + RegEx': 0.535, '60% Crowd + RegEx': 0.610,\n",
    "         '80% Crowd + RegEx': 0.50, 'Crowd + RegEx': 0.606}\n",
    "\n",
    "\n",
    "#'Crowd + Regex + ADE': 0.639, 'Crowd + Regex + BioText/ADE': 0.631\n",
    "figure(figsize=(12, 8))\n",
    "\n",
    "plt.bar(range(len(results)), list(results.values()), align='center')\n",
    "plt.xticks(range(len(results)), list(results.keys()), rotation=20)\n",
    "\n",
    "plt.ylim(0.4, 0.7)\n",
    "\n",
    "plt.show()"
   ]
  },
  {
   "cell_type": "code",
   "execution_count": 0,
   "metadata": {
    "colab": {},
    "colab_type": "code",
    "id": "EWePpeyApl2-"
   },
   "outputs": [],
   "source": []
  }
 ],
 "metadata": {
  "colab": {
   "collapsed_sections": [],
   "name": "SNORKEL-MULTICLASS-6.ipynb",
   "provenance": [],
   "toc_visible": true
  },
  "kernelspec": {
   "display_name": "Python 3",
   "language": "python",
   "name": "python3"
  },
  "language_info": {
   "codemirror_mode": {
    "name": "ipython",
    "version": 3
   },
   "file_extension": ".py",
   "mimetype": "text/x-python",
   "name": "python",
   "nbconvert_exporter": "python",
   "pygments_lexer": "ipython3",
   "version": "3.6.7"
  }
 },
 "nbformat": 4,
 "nbformat_minor": 1
}
